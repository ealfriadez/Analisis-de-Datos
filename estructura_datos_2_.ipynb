{
 "cells": [
  {
   "cell_type": "code",
   "execution_count": 3,
   "id": "7223a614-5841-4b15-8c4b-ca507413ea50",
   "metadata": {},
   "outputs": [
    {
     "name": "stdout",
     "output_type": "stream",
     "text": [
      "Espacio en memoria para lista: 800984\n",
      "Espacio en memoria para tupla: 800040\n"
     ]
    }
   ],
   "source": [
    "from sys import getsizeof\n",
    "lst = list(x for x in range(10**5))\n",
    "print('Espacio en memoria para lista: ' + str(getsizeof(lst)))\n",
    "tple = tuple(x for x in range(10**5))\n",
    "print('Espacio en memoria para tupla: ' + str(getsizeof(tple)))"
   ]
  },
  {
   "cell_type": "code",
   "execution_count": 5,
   "id": "af5bc06b-e31a-47cf-b11d-3c444decf01c",
   "metadata": {},
   "outputs": [
    {
     "data": {
      "text/plain": [
       "(1, 'mango', 3.1416, ['a', 'b'])"
      ]
     },
     "execution_count": 5,
     "metadata": {},
     "output_type": "execute_result"
    }
   ],
   "source": [
    "x=1, 'mango', 3.1416, ['a', 'b']\n",
    "x"
   ]
  },
  {
   "cell_type": "code",
   "execution_count": 7,
   "id": "4eb08974-52db-4ec7-b5de-5cd452f3942c",
   "metadata": {},
   "outputs": [
    {
     "data": {
      "text/plain": [
       "tuple"
      ]
     },
     "execution_count": 7,
     "metadata": {},
     "output_type": "execute_result"
    }
   ],
   "source": [
    "type(x)"
   ]
  },
  {
   "cell_type": "code",
   "execution_count": 9,
   "id": "c3168d8d-3ae8-4bda-bee3-f5cbb846fc89",
   "metadata": {},
   "outputs": [
    {
     "data": {
      "text/plain": [
       "['a', 'b']"
      ]
     },
     "execution_count": 9,
     "metadata": {},
     "output_type": "execute_result"
    }
   ],
   "source": [
    "x[3]"
   ]
  },
  {
   "cell_type": "code",
   "execution_count": 11,
   "id": "7680a935-daae-42d5-b173-6667ce34d403",
   "metadata": {},
   "outputs": [
    {
     "data": {
      "text/plain": [
       "list"
      ]
     },
     "execution_count": 11,
     "metadata": {},
     "output_type": "execute_result"
    }
   ],
   "source": [
    "type(x[3])"
   ]
  },
  {
   "cell_type": "code",
   "execution_count": 13,
   "id": "76b5ef5b-48b3-46bb-8d4f-21653f8a4332",
   "metadata": {},
   "outputs": [
    {
     "data": {
      "text/plain": [
       "float"
      ]
     },
     "execution_count": 13,
     "metadata": {},
     "output_type": "execute_result"
    }
   ],
   "source": [
    "type(x[2])"
   ]
  },
  {
   "cell_type": "code",
   "execution_count": 15,
   "id": "83fdc3e5-7d64-4c3b-9578-0740c8b0e2d0",
   "metadata": {},
   "outputs": [
    {
     "data": {
      "text/plain": [
       "str"
      ]
     },
     "execution_count": 15,
     "metadata": {},
     "output_type": "execute_result"
    }
   ],
   "source": [
    "type(x[1])"
   ]
  },
  {
   "cell_type": "code",
   "execution_count": 17,
   "id": "7a543c37-3c23-4730-9143-2e7d2ec454fd",
   "metadata": {},
   "outputs": [
    {
     "data": {
      "text/plain": [
       "int"
      ]
     },
     "execution_count": 17,
     "metadata": {},
     "output_type": "execute_result"
    }
   ],
   "source": [
    "type(x[0])"
   ]
  },
  {
   "cell_type": "code",
   "execution_count": 19,
   "id": "8ddde049-e355-4379-81c8-40a4a2c67b14",
   "metadata": {},
   "outputs": [
    {
     "data": {
      "text/plain": [
       "1"
      ]
     },
     "execution_count": 19,
     "metadata": {},
     "output_type": "execute_result"
    }
   ],
   "source": [
    "x.count('mango')"
   ]
  },
  {
   "cell_type": "code",
   "execution_count": 21,
   "id": "354b069d-d98d-491d-add2-c38d1f7c0a4a",
   "metadata": {},
   "outputs": [
    {
     "data": {
      "text/plain": [
       "(1, 'a', 3.1416)"
      ]
     },
     "execution_count": 21,
     "metadata": {},
     "output_type": "execute_result"
    }
   ],
   "source": [
    "t=1, 'a', 3.1416\n",
    "t"
   ]
  },
  {
   "cell_type": "code",
   "execution_count": 23,
   "id": "2ed25194-2d54-4930-bcf6-bb79408e87c8",
   "metadata": {},
   "outputs": [],
   "source": [
    "x, y, z=t"
   ]
  },
  {
   "cell_type": "code",
   "execution_count": 27,
   "id": "f574211d-3011-4ed7-8063-6cf032d34f65",
   "metadata": {},
   "outputs": [
    {
     "data": {
      "text/plain": [
       "(1, 'mango', 3.1416, ['a', 'b'], 'mango')"
      ]
     },
     "execution_count": 27,
     "metadata": {},
     "output_type": "execute_result"
    }
   ],
   "source": [
    "x=(1, 'mango', 3.1416, ['a', 'b'], 'mango')\n",
    "x"
   ]
  },
  {
   "cell_type": "code",
   "execution_count": 29,
   "id": "f23f4942-210d-4981-8aeb-434f36b67342",
   "metadata": {},
   "outputs": [
    {
     "data": {
      "text/plain": [
       "2"
      ]
     },
     "execution_count": 29,
     "metadata": {},
     "output_type": "execute_result"
    }
   ],
   "source": [
    "x.count('mango')"
   ]
  },
  {
   "cell_type": "code",
   "execution_count": 31,
   "id": "1dff8032-921d-4fbb-9e3a-e4c030bab3e9",
   "metadata": {},
   "outputs": [],
   "source": [
    "(x, y, z)=t"
   ]
  },
  {
   "cell_type": "code",
   "execution_count": 33,
   "id": "d73160b4-88e9-4828-b685-9d68c6d5963a",
   "metadata": {},
   "outputs": [
    {
     "name": "stdout",
     "output_type": "stream",
     "text": [
      "1\n",
      "a\n",
      "3.1416\n"
     ]
    }
   ],
   "source": [
    "print(x)\n",
    "print(y)\n",
    "print(z)"
   ]
  },
  {
   "cell_type": "code",
   "execution_count": 47,
   "id": "bb7479c0-d831-4ee6-987f-70c79d12feee",
   "metadata": {},
   "outputs": [
    {
     "data": {
      "text/plain": [
       "<zip at 0x12e20eb2b40>"
      ]
     },
     "execution_count": 47,
     "metadata": {},
     "output_type": "execute_result"
    }
   ],
   "source": [
    "nombres=['Maria', 'Pepe', 'Luisa']\n",
    "edades=[20, 18, 30]\n",
    "sexos=['F', 'M', 'F']\n",
    "t=zip(nombres, edades, sexos)\n",
    "t"
   ]
  },
  {
   "cell_type": "code",
   "execution_count": 49,
   "id": "241e33df-e35f-4b19-9e12-75fbfa66bd24",
   "metadata": {},
   "outputs": [
    {
     "data": {
      "text/plain": [
       "[('Maria', 20, 'F'), ('Pepe', 18, 'M'), ('Luisa', 30, 'F')]"
      ]
     },
     "execution_count": 49,
     "metadata": {},
     "output_type": "execute_result"
    }
   ],
   "source": [
    "list(t)"
   ]
  },
  {
   "cell_type": "code",
   "execution_count": 41,
   "id": "e8f3ba0b-3f70-4ddd-8efa-5db703048d9e",
   "metadata": {},
   "outputs": [
    {
     "data": {
      "text/plain": [
       "float"
      ]
     },
     "execution_count": 41,
     "metadata": {},
     "output_type": "execute_result"
    }
   ],
   "source": [
    "type(z)"
   ]
  },
  {
   "cell_type": "code",
   "execution_count": 51,
   "id": "66aa23af-9389-4afb-9060-59763d6a4204",
   "metadata": {},
   "outputs": [
    {
     "data": {
      "text/plain": [
       "[(0, 'Maria'), (1, 'Pepe'), (2, 'Luisa')]"
      ]
     },
     "execution_count": 51,
     "metadata": {},
     "output_type": "execute_result"
    }
   ],
   "source": [
    "nombres=['Maria', 'Pepe', 'Luisa']\n",
    "t=enumerate(nombres)\n",
    "list(t)"
   ]
  },
  {
   "cell_type": "markdown",
   "id": "5e9e6cec-b447-4eb6-8491-10d6ac1d927f",
   "metadata": {},
   "source": [
    "# DICCIONARIOS"
   ]
  },
  {
   "cell_type": "code",
   "execution_count": 68,
   "id": "38428743-9e81-4827-aca5-fe94adf174e7",
   "metadata": {},
   "outputs": [
    {
     "data": {
      "text/plain": [
       "{'Nombre': 'Sara', 'Edad': 27, 'Documento': 1003882}"
      ]
     },
     "execution_count": 68,
     "metadata": {},
     "output_type": "execute_result"
    }
   ],
   "source": [
    "d1 = {\n",
    "    \"Nombre\": \"Sara\",\n",
    "    \"Edad\": 27,\n",
    "    \"Documento\": 1003882\n",
    "}\n",
    "d1"
   ]
  },
  {
   "cell_type": "code",
   "execution_count": 70,
   "id": "be084e9c-6cf4-404d-a03a-6a63bd7cdb11",
   "metadata": {},
   "outputs": [
    {
     "data": {
      "text/plain": [
       "dict"
      ]
     },
     "execution_count": 70,
     "metadata": {},
     "output_type": "execute_result"
    }
   ],
   "source": [
    "type(d1)"
   ]
  },
  {
   "cell_type": "code",
   "execution_count": 72,
   "id": "4d256d89-0b47-4a3a-a23b-2f4df12ffe0f",
   "metadata": {},
   "outputs": [
    {
     "data": {
      "text/plain": [
       "{'Nombre': 'Sara', 'Edad': 27, 'Documento': 1003882}"
      ]
     },
     "execution_count": 72,
     "metadata": {},
     "output_type": "execute_result"
    }
   ],
   "source": [
    "d1"
   ]
  },
  {
   "cell_type": "code",
   "execution_count": 82,
   "id": "176182ec-2948-4f73-a530-8b88bf841952",
   "metadata": {},
   "outputs": [
    {
     "data": {
      "text/plain": [
       "{'Nombre': 'Maria', 'Edad': 30, 'Documento': 1003882}"
      ]
     },
     "execution_count": 82,
     "metadata": {},
     "output_type": "execute_result"
    }
   ],
   "source": [
    "d2=dict([('Nombre', 'Maria'), ('Edad', 30), ('Documento', 1003882)])\n",
    "d2"
   ]
  },
  {
   "cell_type": "code",
   "execution_count": 76,
   "id": "fd54873e-0e9c-472a-a29c-c93cf859f53a",
   "metadata": {},
   "outputs": [
    {
     "data": {
      "text/plain": [
       "dict"
      ]
     },
     "execution_count": 76,
     "metadata": {},
     "output_type": "execute_result"
    }
   ],
   "source": [
    "type(d2)"
   ]
  },
  {
   "cell_type": "code",
   "execution_count": 80,
   "id": "73ceea29-2281-4385-9039-dfc97a8114a8",
   "metadata": {},
   "outputs": [
    {
     "data": {
      "text/plain": [
       "{'Nombre': 'Elio', 'Edad': 27, 'Documento': 1003882}"
      ]
     },
     "execution_count": 80,
     "metadata": {},
     "output_type": "execute_result"
    }
   ],
   "source": [
    "d3=dict(Nombre='Elio', Edad=27, Documento=1003882)\n",
    "d3"
   ]
  },
  {
   "cell_type": "markdown",
   "id": "bffe7145-8467-49e4-805e-bb682cba51b5",
   "metadata": {},
   "source": [
    "# PROPIEDADES DE DICCIONARIOS"
   ]
  },
  {
   "cell_type": "code",
   "execution_count": 86,
   "id": "b66ac2bb-4694-45a6-b7e0-1fb30cb54e9f",
   "metadata": {},
   "outputs": [
    {
     "data": {
      "text/plain": [
       "{'Nombre': 'Sara', 'Edad': 27, 'Documento': 1003882}"
      ]
     },
     "execution_count": 86,
     "metadata": {},
     "output_type": "execute_result"
    }
   ],
   "source": [
    "d1 = {\n",
    "    \"Nombre\": \"Sara\",\n",
    "    \"Edad\": 27,\n",
    "    \"Documento\": 1003882\n",
    "}\n",
    "d1"
   ]
  },
  {
   "cell_type": "code",
   "execution_count": 88,
   "id": "a5df0357-55c8-44e0-9959-8e4e2cfa977b",
   "metadata": {},
   "outputs": [
    {
     "data": {
      "text/plain": [
       "'Sara'"
      ]
     },
     "execution_count": 88,
     "metadata": {},
     "output_type": "execute_result"
    }
   ],
   "source": [
    "d1[\"Nombre\"]"
   ]
  },
  {
   "cell_type": "code",
   "execution_count": 104,
   "id": "e07c32b9-c881-411b-84af-a43d0ba6cbe0",
   "metadata": {},
   "outputs": [
    {
     "data": {
      "text/plain": [
       "{'Nombre': 'Sara',\n",
       " 'Edad': 27,\n",
       " 'Documento': 1003882,\n",
       " 'Apellidos': {'Paterno': 'Ramirez', 'Materno': 'Lopez'}}"
      ]
     },
     "execution_count": 104,
     "metadata": {},
     "output_type": "execute_result"
    }
   ],
   "source": [
    "d1['Apellidos']={'Paterno':'Ramirez', 'Materno':'Lopez'}\n",
    "d1"
   ]
  },
  {
   "cell_type": "code",
   "execution_count": 106,
   "id": "c255265d-1b18-4fe3-a6db-0ce91a99ef43",
   "metadata": {},
   "outputs": [
    {
     "data": {
      "text/plain": [
       "'Ramirez'"
      ]
     },
     "execution_count": 106,
     "metadata": {},
     "output_type": "execute_result"
    }
   ],
   "source": [
    "d1['Apellidos']['Paterno']"
   ]
  },
  {
   "cell_type": "code",
   "execution_count": 108,
   "id": "ff4fa23f-3983-4ebb-81ac-073be899a824",
   "metadata": {},
   "outputs": [
    {
     "data": {
      "text/plain": [
       "'Lopez'"
      ]
     },
     "execution_count": 108,
     "metadata": {},
     "output_type": "execute_result"
    }
   ],
   "source": [
    "d1['Apellidos']['Materno']"
   ]
  },
  {
   "cell_type": "code",
   "execution_count": 112,
   "id": "5f3ab6a2-6f29-4b63-8b4b-87d02292543c",
   "metadata": {},
   "outputs": [
    {
     "data": {
      "text/plain": [
       "27"
      ]
     },
     "execution_count": 112,
     "metadata": {},
     "output_type": "execute_result"
    }
   ],
   "source": [
    "d1.get('Edad')"
   ]
  },
  {
   "cell_type": "code",
   "execution_count": 114,
   "id": "e721b142-ea97-41ac-91d9-98d5cabafa50",
   "metadata": {},
   "outputs": [
    {
     "data": {
      "text/plain": [
       "27"
      ]
     },
     "execution_count": 114,
     "metadata": {},
     "output_type": "execute_result"
    }
   ],
   "source": [
    "d1['Edad']"
   ]
  },
  {
   "cell_type": "code",
   "execution_count": 116,
   "id": "19a4f914-80d8-4e9d-a191-6186046b8b44",
   "metadata": {},
   "outputs": [
    {
     "data": {
      "text/plain": [
       "{'Nombre': 'Santiago',\n",
       " 'Edad': 27,\n",
       " 'Documento': 1003882,\n",
       " 'Apellidos': {'Paterno': 'Ramirez', 'Materno': 'Lopez'}}"
      ]
     },
     "execution_count": 116,
     "metadata": {},
     "output_type": "execute_result"
    }
   ],
   "source": [
    "d1['Nombre']='Santiago'\n",
    "d1"
   ]
  },
  {
   "cell_type": "code",
   "execution_count": 118,
   "id": "43be1d0c-92c1-4757-9f25-33668de06368",
   "metadata": {},
   "outputs": [
    {
     "data": {
      "text/plain": [
       "{'Nombre': 'Santiago',\n",
       " 'Edad': 27,\n",
       " 'Documento': 1003882,\n",
       " 'Apellidos': {'Paterno': 'Ramirez', 'Materno': 'Lopez'},\n",
       " 'Nacionalidad': {'Pais': 'Peru', 'Codigo Postal': 13007}}"
      ]
     },
     "execution_count": 118,
     "metadata": {},
     "output_type": "execute_result"
    }
   ],
   "source": [
    "d1['Nacionalidad']={'Pais':'Peru', 'Codigo Postal':13007}\n",
    "d1"
   ]
  },
  {
   "cell_type": "code",
   "execution_count": 122,
   "id": "fa84d98f-3904-4e3c-b561-9668c8c39e0f",
   "metadata": {},
   "outputs": [
    {
     "data": {
      "text/plain": [
       "'Peru'"
      ]
     },
     "execution_count": 122,
     "metadata": {},
     "output_type": "execute_result"
    }
   ],
   "source": [
    "d1['Nacionalidad']['Pais']"
   ]
  },
  {
   "cell_type": "code",
   "execution_count": 124,
   "id": "93c37f37-038b-406e-a9cf-06fcfc0ee871",
   "metadata": {},
   "outputs": [
    {
     "data": {
      "text/plain": [
       "13007"
      ]
     },
     "execution_count": 124,
     "metadata": {},
     "output_type": "execute_result"
    }
   ],
   "source": [
    "d1['Nacionalidad']['Codigo Postal']"
   ]
  },
  {
   "cell_type": "code",
   "execution_count": 126,
   "id": "2d9cb507-44b8-40dd-b4e7-2c425a517647",
   "metadata": {},
   "outputs": [
    {
     "data": {
      "text/plain": [
       "dict_items([('Nombre', 'Santiago'), ('Edad', 27), ('Documento', 1003882), ('Apellidos', {'Paterno': 'Ramirez', 'Materno': 'Lopez'}), ('Nacionalidad', {'Pais': 'Peru', 'Codigo Postal': 13007})])"
      ]
     },
     "execution_count": 126,
     "metadata": {},
     "output_type": "execute_result"
    }
   ],
   "source": [
    "d1.items()"
   ]
  },
  {
   "cell_type": "code",
   "execution_count": 128,
   "id": "b244707a-8c87-4ea7-a60b-986dde66f1f6",
   "metadata": {},
   "outputs": [
    {
     "data": {
      "text/plain": [
       "dict_keys(['Nombre', 'Edad', 'Documento', 'Apellidos', 'Nacionalidad'])"
      ]
     },
     "execution_count": 128,
     "metadata": {},
     "output_type": "execute_result"
    }
   ],
   "source": [
    "d1.keys()"
   ]
  },
  {
   "cell_type": "code",
   "execution_count": 130,
   "id": "9e6dccaa-9f70-47d3-b950-6b813785b73c",
   "metadata": {},
   "outputs": [
    {
     "data": {
      "text/plain": [
       "dict_values(['Santiago', 27, 1003882, {'Paterno': 'Ramirez', 'Materno': 'Lopez'}, {'Pais': 'Peru', 'Codigo Postal': 13007}])"
      ]
     },
     "execution_count": 130,
     "metadata": {},
     "output_type": "execute_result"
    }
   ],
   "source": [
    "d1.values()"
   ]
  },
  {
   "cell_type": "code",
   "execution_count": 132,
   "id": "3408d4d6-144f-477f-9edf-48d978d957a0",
   "metadata": {},
   "outputs": [
    {
     "data": {
      "text/plain": [
       "{'Nombre': 'Santiago',\n",
       " 'Edad': 27,\n",
       " 'Documento': 1003882,\n",
       " 'Apellidos': {'Paterno': 'Ramirez', 'Materno': 'Lopez'}}"
      ]
     },
     "execution_count": 132,
     "metadata": {},
     "output_type": "execute_result"
    }
   ],
   "source": [
    "d1.pop('Nacionalidad')\n",
    "d1"
   ]
  },
  {
   "cell_type": "code",
   "execution_count": 134,
   "id": "93b7458c-091b-42fd-872d-2a4322085975",
   "metadata": {},
   "outputs": [
    {
     "data": {
      "text/plain": [
       "('Apellidos', {'Paterno': 'Ramirez', 'Materno': 'Lopez'})"
      ]
     },
     "execution_count": 134,
     "metadata": {},
     "output_type": "execute_result"
    }
   ],
   "source": [
    "d1.popitem()"
   ]
  },
  {
   "cell_type": "code",
   "execution_count": 136,
   "id": "06f44525-44c7-4962-bc74-fbf10739c5d2",
   "metadata": {},
   "outputs": [
    {
     "data": {
      "text/plain": [
       "{'Nombre': 'Santiago', 'Edad': 27, 'Documento': 1003882}"
      ]
     },
     "execution_count": 136,
     "metadata": {},
     "output_type": "execute_result"
    }
   ],
   "source": [
    "d1"
   ]
  },
  {
   "cell_type": "code",
   "execution_count": 138,
   "id": "f22d0144-f590-4368-b6ac-90b3cce2ad3e",
   "metadata": {},
   "outputs": [
    {
     "data": {
      "text/plain": [
       "('Documento', 1003882)"
      ]
     },
     "execution_count": 138,
     "metadata": {},
     "output_type": "execute_result"
    }
   ],
   "source": [
    "d1.popitem()"
   ]
  },
  {
   "cell_type": "code",
   "execution_count": 140,
   "id": "a936441c-9fb8-4455-82fc-d9eb98bbcf9a",
   "metadata": {},
   "outputs": [
    {
     "data": {
      "text/plain": [
       "{'Nombre': 'Santiago', 'Edad': 27}"
      ]
     },
     "execution_count": 140,
     "metadata": {},
     "output_type": "execute_result"
    }
   ],
   "source": [
    "d1"
   ]
  },
  {
   "cell_type": "code",
   "execution_count": 142,
   "id": "e3aae260-18fc-4537-b8e7-cf8f75203d9f",
   "metadata": {},
   "outputs": [
    {
     "data": {
      "text/plain": [
       "{'Nombre': 'Santiago', 'Edad': 11, 'Documento': 1003811}"
      ]
     },
     "execution_count": 142,
     "metadata": {},
     "output_type": "execute_result"
    }
   ],
   "source": [
    "d2 = {\n",
    "    \"Nombre\": \"Santiago\",\n",
    "    \"Edad\": 11,\n",
    "    \"Documento\": 1003811\n",
    "}\n",
    "d2"
   ]
  },
  {
   "cell_type": "code",
   "execution_count": 144,
   "id": "f366d10f-e22c-4d2a-abb2-136873503268",
   "metadata": {},
   "outputs": [
    {
     "data": {
      "text/plain": [
       "{'Nombre': 'Santiago', 'Edad': 27}"
      ]
     },
     "execution_count": 144,
     "metadata": {},
     "output_type": "execute_result"
    }
   ],
   "source": [
    "d1"
   ]
  },
  {
   "cell_type": "code",
   "execution_count": 146,
   "id": "d10a3fd0-4361-4fcb-a620-2e5df77cdf53",
   "metadata": {},
   "outputs": [
    {
     "data": {
      "text/plain": [
       "{'Nombre': 'Santiago', 'Edad': 11, 'Documento': 1003811}"
      ]
     },
     "execution_count": 146,
     "metadata": {},
     "output_type": "execute_result"
    }
   ],
   "source": [
    "d2"
   ]
  },
  {
   "cell_type": "code",
   "execution_count": 148,
   "id": "ac712a42-83af-4527-94e2-3526bf1e6611",
   "metadata": {},
   "outputs": [],
   "source": [
    "d1.update(d2)"
   ]
  },
  {
   "cell_type": "code",
   "execution_count": 150,
   "id": "236322fa-2103-4a6f-ae91-d78a81014c7b",
   "metadata": {},
   "outputs": [
    {
     "data": {
      "text/plain": [
       "{'Nombre': 'Santiago', 'Edad': 11, 'Documento': 1003811}"
      ]
     },
     "execution_count": 150,
     "metadata": {},
     "output_type": "execute_result"
    }
   ],
   "source": [
    "d1"
   ]
  },
  {
   "cell_type": "markdown",
   "id": "406a2c05-250b-4efd-bf76-066c34026eb3",
   "metadata": {},
   "source": [
    "# CONJUNTO O SETS"
   ]
  },
  {
   "cell_type": "code",
   "execution_count": 19,
   "id": "1ed539b9-7b94-48c7-baea-29c1862f45d0",
   "metadata": {},
   "outputs": [],
   "source": [
    "conj_1={'a', 1.3, 3.1416, 'Xavier'}"
   ]
  },
  {
   "cell_type": "code",
   "execution_count": 4,
   "id": "b9a402e3-31f9-4b68-a920-054ccf347dfb",
   "metadata": {},
   "outputs": [
    {
     "data": {
      "text/plain": [
       "set"
      ]
     },
     "execution_count": 4,
     "metadata": {},
     "output_type": "execute_result"
    }
   ],
   "source": [
    "type(conj_1)"
   ]
  },
  {
   "cell_type": "code",
   "execution_count": 21,
   "id": "3cf576e7-70e2-4c23-b17a-736a483bc5cc",
   "metadata": {},
   "outputs": [
    {
     "data": {
      "text/plain": [
       "{1.3, 3.1416, 'Xavier', 'a'}"
      ]
     },
     "execution_count": 21,
     "metadata": {},
     "output_type": "execute_result"
    }
   ],
   "source": [
    "conj_1"
   ]
  },
  {
   "cell_type": "code",
   "execution_count": 9,
   "id": "274731da-bbab-428d-9a8c-dd7172f92829",
   "metadata": {},
   "outputs": [
    {
     "data": {
      "text/plain": [
       "{'Ana', 'Carlos', 'Mario', 'Miguel'}"
      ]
     },
     "execution_count": 9,
     "metadata": {},
     "output_type": "execute_result"
    }
   ],
   "source": [
    "group_a = set(['Ana', 'Ana', 'Carlos', 'Mario', 'Miguel', 'Carlos'])\n",
    "group_a"
   ]
  },
  {
   "cell_type": "code",
   "execution_count": 11,
   "id": "0ff901f9-9ed3-4a86-a961-67767f76d798",
   "metadata": {},
   "outputs": [
    {
     "data": {
      "text/plain": [
       "{'Ana', 'Antonio', 'Carlos', 'Pedro'}"
      ]
     },
     "execution_count": 11,
     "metadata": {},
     "output_type": "execute_result"
    }
   ],
   "source": [
    "group_b = {'Ana', 'Pedro', 'Carlos', 'Antonio', 'Ana'}\n",
    "group_b"
   ]
  },
  {
   "cell_type": "code",
   "execution_count": 13,
   "id": "68706a2b-5051-4900-9c8a-5ab8a5120680",
   "metadata": {},
   "outputs": [],
   "source": [
    "group_a.add('Sebastian')"
   ]
  },
  {
   "cell_type": "code",
   "execution_count": 15,
   "id": "ed81096b-7dde-4dad-8124-b817d83e6424",
   "metadata": {},
   "outputs": [
    {
     "data": {
      "text/plain": [
       "{'Ana', 'Carlos', 'Mario', 'Miguel', 'Sebastian'}"
      ]
     },
     "execution_count": 15,
     "metadata": {},
     "output_type": "execute_result"
    }
   ],
   "source": [
    "group_a"
   ]
  },
  {
   "cell_type": "code",
   "execution_count": 23,
   "id": "6daf5f48-74ef-4ff6-acf0-c463c438a7d0",
   "metadata": {},
   "outputs": [
    {
     "data": {
      "text/plain": [
       "{'Ana', 'Antonio', 'Marcos', 'Pepe', 'pepe'}"
      ]
     },
     "execution_count": 23,
     "metadata": {},
     "output_type": "execute_result"
    }
   ],
   "source": [
    "group_c = {'Ana', 'Antonio', 'Marcos', 'Pepe', 'pepe'}\n",
    "group_c"
   ]
  },
  {
   "cell_type": "code",
   "execution_count": 25,
   "id": "1e611e19-1d26-41e9-b4f5-1437ff5446f3",
   "metadata": {},
   "outputs": [
    {
     "data": {
      "text/plain": [
       "{'Ana',\n",
       " 'Antonio',\n",
       " 'Carlos',\n",
       " 'Marcos',\n",
       " 'Mario',\n",
       " 'Miguel',\n",
       " 'Pedro',\n",
       " 'Pepe',\n",
       " 'Sebastian',\n",
       " 'pepe'}"
      ]
     },
     "execution_count": 25,
     "metadata": {},
     "output_type": "execute_result"
    }
   ],
   "source": [
    "all_students = group_a.union(group_b).union(group_c)\n",
    "all_students"
   ]
  },
  {
   "cell_type": "code",
   "execution_count": 27,
   "id": "6f8701f1-c757-4e93-a1ab-28fbf2b82433",
   "metadata": {},
   "outputs": [
    {
     "data": {
      "text/plain": [
       "{'Ana', 'Carlos'}"
      ]
     },
     "execution_count": 27,
     "metadata": {},
     "output_type": "execute_result"
    }
   ],
   "source": [
    "a_and_b = group_a.intersection(group_b)\n",
    "a_and_b"
   ]
  },
  {
   "cell_type": "code",
   "execution_count": 29,
   "id": "22a4b753-d80f-4a9b-a6b8-23eb9c7bc550",
   "metadata": {},
   "outputs": [
    {
     "data": {
      "text/plain": [
       "{'Ana'}"
      ]
     },
     "execution_count": 29,
     "metadata": {},
     "output_type": "execute_result"
    }
   ],
   "source": [
    "a_and_c = group_a.intersection(group_c)\n",
    "a_and_c"
   ]
  },
  {
   "cell_type": "code",
   "execution_count": 31,
   "id": "eaad7491-2dc5-4b97-823e-7c545815964b",
   "metadata": {},
   "outputs": [
    {
     "data": {
      "text/plain": [
       "{'Ana', 'Antonio'}"
      ]
     },
     "execution_count": 31,
     "metadata": {},
     "output_type": "execute_result"
    }
   ],
   "source": [
    "b_and_c = group_b.intersection(group_c)\n",
    "b_and_c"
   ]
  },
  {
   "cell_type": "code",
   "execution_count": 33,
   "id": "8a55368e-b491-47b0-b5dd-d88119605864",
   "metadata": {},
   "outputs": [
    {
     "data": {
      "text/plain": [
       "{'Ana'}"
      ]
     },
     "execution_count": 33,
     "metadata": {},
     "output_type": "execute_result"
    }
   ],
   "source": [
    "common_all = group_a.intersection(group_b).intersection(group_c)\n",
    "common_all"
   ]
  },
  {
   "cell_type": "markdown",
   "id": "c068725e-f03f-4a9a-b938-c45fa9989db7",
   "metadata": {},
   "source": [
    "# Methods"
   ]
  },
  {
   "cell_type": "code",
   "execution_count": 36,
   "id": "71743712-1638-47c7-8377-e5daa7e729e3",
   "metadata": {},
   "outputs": [
    {
     "data": {
      "text/plain": [
       "{1, 2, 3, 4, 5, 6, 7}"
      ]
     },
     "execution_count": 36,
     "metadata": {},
     "output_type": "execute_result"
    }
   ],
   "source": [
    "{1,2,3,4}.union({5,6,7})"
   ]
  },
  {
   "cell_type": "code",
   "execution_count": 38,
   "id": "d9650aca-5d9c-4a1e-ac0f-8cb8a77f6081",
   "metadata": {},
   "outputs": [
    {
     "data": {
      "text/plain": [
       "{1, 2, 3}"
      ]
     },
     "execution_count": 38,
     "metadata": {},
     "output_type": "execute_result"
    }
   ],
   "source": [
    "{1,2,3,4}.difference({4,5,6,7})"
   ]
  },
  {
   "cell_type": "code",
   "execution_count": 40,
   "id": "d1fbdea3-5069-4f16-a624-e41ec4c290e3",
   "metadata": {},
   "outputs": [
    {
     "data": {
      "text/plain": [
       "{4}"
      ]
     },
     "execution_count": 40,
     "metadata": {},
     "output_type": "execute_result"
    }
   ],
   "source": [
    "{1,2,3,4}.intersection({4,5,6,7})"
   ]
  },
  {
   "cell_type": "code",
   "execution_count": 50,
   "id": "9bf68063-8b34-4b60-832f-5221a1d1e835",
   "metadata": {},
   "outputs": [
    {
     "data": {
      "text/plain": [
       "True"
      ]
     },
     "execution_count": 50,
     "metadata": {},
     "output_type": "execute_result"
    }
   ],
   "source": [
    "{1,2,3}.isdisjoint({4,5,6})"
   ]
  },
  {
   "cell_type": "code",
   "execution_count": 52,
   "id": "c795d3b1-ab8a-4a29-85fd-857d7fde474f",
   "metadata": {},
   "outputs": [
    {
     "data": {
      "text/plain": [
       "False"
      ]
     },
     "execution_count": 52,
     "metadata": {},
     "output_type": "execute_result"
    }
   ],
   "source": [
    "{1,2,3,5}.isdisjoint({4,5,6})"
   ]
  },
  {
   "cell_type": "code",
   "execution_count": 54,
   "id": "f109794c-48e4-43db-9f84-bea88d90c740",
   "metadata": {},
   "outputs": [
    {
     "data": {
      "text/plain": [
       "True"
      ]
     },
     "execution_count": 54,
     "metadata": {},
     "output_type": "execute_result"
    }
   ],
   "source": [
    "{3,0,4}.issubset({0,1,2,3,4,5})"
   ]
  },
  {
   "cell_type": "code",
   "execution_count": 46,
   "id": "f7e71470-af50-4596-a2cb-ebcb778c4cf9",
   "metadata": {},
   "outputs": [
    {
     "data": {
      "text/plain": [
       "True"
      ]
     },
     "execution_count": 46,
     "metadata": {},
     "output_type": "execute_result"
    }
   ],
   "source": [
    "{0,1,2,3,4,5}.issuperset({0,3,4})"
   ]
  },
  {
   "cell_type": "code",
   "execution_count": 58,
   "id": "29224c10-3989-4ada-8cb9-be89b8e05271",
   "metadata": {},
   "outputs": [
    {
     "data": {
      "text/plain": [
       "set"
      ]
     },
     "execution_count": 58,
     "metadata": {},
     "output_type": "execute_result"
    }
   ],
   "source": [
    "a={1,2,3}\n",
    "type(a)"
   ]
  },
  {
   "cell_type": "code",
   "execution_count": 60,
   "id": "88a47ca8-1941-440d-aea6-2df80760c540",
   "metadata": {},
   "outputs": [
    {
     "data": {
      "text/plain": [
       "frozenset"
      ]
     },
     "execution_count": 60,
     "metadata": {},
     "output_type": "execute_result"
    }
   ],
   "source": [
    "f=frozenset(a)\n",
    "type(f)"
   ]
  },
  {
   "cell_type": "code",
   "execution_count": 62,
   "id": "b06a2284-00e4-4dd2-b54d-14ed8520a456",
   "metadata": {},
   "outputs": [
    {
     "data": {
      "text/plain": [
       "frozenset({1, 2, 3})"
      ]
     },
     "execution_count": 62,
     "metadata": {},
     "output_type": "execute_result"
    }
   ],
   "source": [
    "f"
   ]
  },
  {
   "cell_type": "code",
   "execution_count": 64,
   "id": "5d525b15-9b83-4a16-aed4-373eebf0723e",
   "metadata": {},
   "outputs": [
    {
     "ename": "AttributeError",
     "evalue": "'frozenset' object has no attribute 'add'",
     "output_type": "error",
     "traceback": [
      "\u001b[1;31m---------------------------------------------------------------------------\u001b[0m",
      "\u001b[1;31mAttributeError\u001b[0m                            Traceback (most recent call last)",
      "Cell \u001b[1;32mIn[64], line 2\u001b[0m\n\u001b[0;32m      1\u001b[0m x\u001b[38;5;241m=\u001b[39m\u001b[38;5;28mfrozenset\u001b[39m({\u001b[38;5;124m'\u001b[39m\u001b[38;5;124ma\u001b[39m\u001b[38;5;124m'\u001b[39m,\u001b[38;5;124m'\u001b[39m\u001b[38;5;124ma\u001b[39m\u001b[38;5;124m'\u001b[39m,\u001b[38;5;124m'\u001b[39m\u001b[38;5;124mb\u001b[39m\u001b[38;5;124m'\u001b[39m})\n\u001b[1;32m----> 2\u001b[0m x\u001b[38;5;241m.\u001b[39madd(\u001b[38;5;124m'\u001b[39m\u001b[38;5;124mc\u001b[39m\u001b[38;5;124m'\u001b[39m)\n\u001b[0;32m      3\u001b[0m x\n",
      "\u001b[1;31mAttributeError\u001b[0m: 'frozenset' object has no attribute 'add'"
     ]
    }
   ],
   "source": [
    "x=frozenset({'a','a','b'})\n",
    "x.add('c')\n",
    "x"
   ]
  },
  {
   "cell_type": "markdown",
   "id": "6f7a1294-afe7-476f-bda8-04391898fdad",
   "metadata": {},
   "source": [
    "# Estructuras de Control"
   ]
  },
  {
   "cell_type": "code",
   "execution_count": 85,
   "id": "3dcd1e4c-cb0f-49e9-894a-67082b105c0b",
   "metadata": {},
   "outputs": [
    {
     "name": "stdout",
     "output_type": "stream",
     "text": [
      "'a' es igual a 'b'\n"
     ]
    }
   ],
   "source": [
    "a, b = 80, 80\n",
    "\n",
    "if a > b:\n",
    "    print(\"'a' es mayor que 'b'\")\n",
    "elif a < b:\n",
    "    print(\"'a' es menor que 'b'\")\n",
    "else:\n",
    "    print(\"'a' es igual a 'b'\")"
   ]
  },
  {
   "cell_type": "code",
   "execution_count": 101,
   "id": "13b1644d-36b9-4a19-aaf5-6cd4122cec1c",
   "metadata": {},
   "outputs": [
    {
     "name": "stdout",
     "output_type": "stream",
     "text": [
      "x\n",
      "1\n",
      "3.1416\n",
      "elemento: 3.1416\n"
     ]
    }
   ],
   "source": [
    "items = ('x', 1, 3.1416)\n",
    "for i in items:\n",
    "    print(i)\n",
    "print('elemento: ' + str(i))"
   ]
  },
  {
   "cell_type": "code",
   "execution_count": null,
   "id": "e8445af6-8dc6-4015-b6c4-ceb647a97066",
   "metadata": {},
   "outputs": [],
   "source": []
  },
  {
   "cell_type": "code",
   "execution_count": 89,
   "id": "ebb6b1b1-88ed-446e-9923-7d6e1e8ec2f5",
   "metadata": {},
   "outputs": [
    {
     "name": "stdout",
     "output_type": "stream",
     "text": [
      "P\n",
      "y\n",
      "t\n",
      "h\n",
      "o\n",
      "n\n"
     ]
    }
   ],
   "source": [
    "m=\"Python\"\n",
    "print(m[0])\n",
    "print(m[1])\n",
    "print(m[2])\n",
    "print(m[3])\n",
    "print(m[4])\n",
    "print(m[5])"
   ]
  },
  {
   "cell_type": "code",
   "execution_count": 93,
   "id": "1dc02e2a-6934-48e7-8c69-4de16ab6e9c6",
   "metadata": {},
   "outputs": [
    {
     "name": "stdout",
     "output_type": "stream",
     "text": [
      "loop 1\n",
      "loop 2\n",
      "loop 3\n",
      "loop 4\n",
      "loop 5\n",
      "loop 6\n",
      "loop 7\n",
      "loop 8\n",
      "loop 9\n"
     ]
    }
   ],
   "source": [
    "x = 1\n",
    "while x < 10:\n",
    "    print('loop ' + str(x))\n",
    "    x+=1"
   ]
  },
  {
   "cell_type": "code",
   "execution_count": 97,
   "id": "46584e3a-9d9f-4008-9452-00a131b4685c",
   "metadata": {},
   "outputs": [
    {
     "name": "stdout",
     "output_type": "stream",
     "text": [
      "E\n",
      "s\n",
      "t\n",
      "a\n",
      "m\n",
      "o\n",
      "s\n",
      " \n",
      "p\n",
      "o\n",
      "r\n",
      " \n",
      "b\n",
      "u\n",
      "e\n",
      "n\n",
      " \n",
      "c\n",
      "a\n",
      "m\n",
      "i\n",
      "n\n",
      "o\n"
     ]
    }
   ],
   "source": [
    "items = \"Estamos por buen camino\"\n",
    "for i in items:\n",
    "    print(i)"
   ]
  },
  {
   "cell_type": "code",
   "execution_count": 103,
   "id": "98e6252c-0dd1-4cae-b494-a0cee6463b60",
   "metadata": {},
   "outputs": [
    {
     "ename": "SyntaxError",
     "evalue": "'(' was never closed (1179114609.py, line 9)",
     "output_type": "error",
     "traceback": [
      "\u001b[1;36m  Cell \u001b[1;32mIn[103], line 9\u001b[1;36m\u001b[0m\n\u001b[1;33m    print(f\"{x} no es el numero, intenta nuevamente\\n\"\u001b[0m\n\u001b[1;37m         ^\u001b[0m\n\u001b[1;31mSyntaxError\u001b[0m\u001b[1;31m:\u001b[0m '(' was never closed\n"
     ]
    }
   ],
   "source": [
    "n=4\n",
    "k=0\n",
    "while True:\n",
    "    x = int(input(\"Ingrese un entero entre 1 y 10: \"))\n",
    "    if x == n:\n",
    "        print(f\"Has adivinado despues de {k} intentos fallidos\")\n",
    "        break\n",
    "    else:\n",
    "        print(f\"{x} no es el numero, intenta nuevamente\\n\"\n",
    "    k += 1"
   ]
  },
  {
   "cell_type": "code",
   "execution_count": null,
   "id": "788c6854-f610-4b5b-8ef7-6cfb5ec021c0",
   "metadata": {},
   "outputs": [],
   "source": []
  },
  {
   "cell_type": "code",
   "execution_count": null,
   "id": "a5bf681e-f9fa-4c6d-ae82-fe46a94109dd",
   "metadata": {},
   "outputs": [],
   "source": []
  },
  {
   "cell_type": "code",
   "execution_count": null,
   "id": "7a85e176-3be8-4674-b33f-d6da96e7edc2",
   "metadata": {},
   "outputs": [],
   "source": []
  },
  {
   "cell_type": "code",
   "execution_count": null,
   "id": "eb4b1aa2-422c-4f6d-8d38-899cb8d75da2",
   "metadata": {},
   "outputs": [],
   "source": []
  },
  {
   "cell_type": "code",
   "execution_count": null,
   "id": "39b5e5f7-2d13-496c-a380-392313f53300",
   "metadata": {},
   "outputs": [],
   "source": []
  },
  {
   "cell_type": "code",
   "execution_count": null,
   "id": "c89ecd9c-ad25-415a-a42f-886a9a6fcab1",
   "metadata": {},
   "outputs": [],
   "source": []
  },
  {
   "cell_type": "code",
   "execution_count": null,
   "id": "260ac986-e7f2-414b-9bb4-94e494aeb53e",
   "metadata": {},
   "outputs": [],
   "source": []
  },
  {
   "cell_type": "code",
   "execution_count": null,
   "id": "7ea4c0a7-d3be-47f3-bb8d-2978e85b4590",
   "metadata": {},
   "outputs": [],
   "source": []
  },
  {
   "cell_type": "code",
   "execution_count": null,
   "id": "49e15bd8-0677-4122-9321-c668d849891c",
   "metadata": {},
   "outputs": [],
   "source": []
  },
  {
   "cell_type": "code",
   "execution_count": null,
   "id": "02650cf1-1242-4d1f-9960-69e83413f328",
   "metadata": {},
   "outputs": [],
   "source": []
  },
  {
   "cell_type": "code",
   "execution_count": null,
   "id": "029376ca-d0dd-45e5-a5fd-b7b847a46cfb",
   "metadata": {},
   "outputs": [],
   "source": []
  },
  {
   "cell_type": "code",
   "execution_count": null,
   "id": "735b024e-6268-4d96-85b9-6907de577d84",
   "metadata": {},
   "outputs": [],
   "source": []
  },
  {
   "cell_type": "code",
   "execution_count": null,
   "id": "43ac15f6-e7c4-4ca3-b26b-f4fa2b155d1c",
   "metadata": {},
   "outputs": [],
   "source": []
  },
  {
   "cell_type": "code",
   "execution_count": null,
   "id": "68b65f04-a1ce-4fcb-ba8c-68fc9da5312c",
   "metadata": {},
   "outputs": [],
   "source": []
  }
 ],
 "metadata": {
  "kernelspec": {
   "display_name": "Python 3 (ipykernel)",
   "language": "python",
   "name": "python3"
  },
  "language_info": {
   "codemirror_mode": {
    "name": "ipython",
    "version": 3
   },
   "file_extension": ".py",
   "mimetype": "text/x-python",
   "name": "python",
   "nbconvert_exporter": "python",
   "pygments_lexer": "ipython3",
   "version": "3.12.4"
  }
 },
 "nbformat": 4,
 "nbformat_minor": 5
}
