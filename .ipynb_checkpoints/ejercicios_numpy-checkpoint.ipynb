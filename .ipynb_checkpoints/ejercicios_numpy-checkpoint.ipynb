{
 "cells": [
  {
   "cell_type": "markdown",
   "id": "63441c72-e392-4a0f-ada9-f15d24ecfca2",
   "metadata": {},
   "source": [
    "# Numpy\n",
    "\n",
    "### 1. Storage Efficiency"
   ]
  },
  {
   "cell_type": "code",
   "execution_count": 3,
   "id": "2e7911f9-1d4d-4890-9aa6-7e873ab57b55",
   "metadata": {},
   "outputs": [
    {
     "name": "stdout",
     "output_type": "stream",
     "text": [
      "Size of np.array: 8112\n",
      "Size of list    : 8856\n"
     ]
    }
   ],
   "source": [
    "import numpy as np\n",
    "import sys\n",
    "\n",
    "narray = np.zeros(1000);\n",
    "mylist = []\n",
    "\n",
    "for i in range(1000):\n",
    "    mylist.append(narray[i])\n",
    "\n",
    "print(\"Size of np.array:\", sys.getsizeof(narray))\n",
    "print(\"Size of list    :\", sys.getsizeof(mylist))"
   ]
  },
  {
   "cell_type": "code",
   "execution_count": 2,
   "id": "d6c6396d-d8d2-4929-84a9-ab0b5be6ea4f",
   "metadata": {},
   "outputs": [
    {
     "name": "stdout",
     "output_type": "stream",
     "text": [
      "Collecting numpy\n",
      "  Using cached numpy-2.0.0-cp312-cp312-manylinux_2_17_x86_64.manylinux2014_x86_64.whl.metadata (60 kB)\n",
      "Using cached numpy-2.0.0-cp312-cp312-manylinux_2_17_x86_64.manylinux2014_x86_64.whl (19.0 MB)\n",
      "Installing collected packages: numpy\n",
      "Successfully installed numpy-2.0.0\n"
     ]
    }
   ],
   "source": [
    "!pip install numpy"
   ]
  },
  {
   "cell_type": "markdown",
   "id": "c0bff7c9-d98e-4716-b071-b0aaf0320ce6",
   "metadata": {},
   "source": [
    "### 2. Computational speed"
   ]
  },
  {
   "cell_type": "code",
   "execution_count": 4,
   "id": "edf99d3f-ca08-4694-a3a4-d719f0917cb7",
   "metadata": {},
   "outputs": [
    {
     "name": "stdout",
     "output_type": "stream",
     "text": [
      "Time taken to add Python lists:  0.0886533260345459\n",
      "Time taken to add Numpy arrays:  0.006024599075317383\n"
     ]
    }
   ],
   "source": [
    "import time  \n",
    "\n",
    "# Define two Python lists \n",
    "py_list1 = list(range(1000000)) \n",
    "py_list2 = list(range(1000000, 2000000))  \n",
    "\n",
    "# Define two Numpy arrays \n",
    "np_array1 = np.arange(1000000) \n",
    "np_array2 = np.arange(1000000, 2000000)  \n",
    "\n",
    "# Adding Python lists \n",
    "start_time = time.time() \n",
    "result_list = [a + b for a, b in zip(py_list1, py_list2)] \n",
    "print(\"Time taken to add Python lists: \", time.time() - start_time)  \n",
    "\n",
    "# Adding Numpy arrays \n",
    "start_time = time.time() \n",
    "result_array = np_array1 + np_array2 \n",
    "print(\"Time taken to add Numpy arrays: \", time.time() - start_time)"
   ]
  },
  {
   "cell_type": "markdown",
   "id": "d03298b8-663e-4c49-a5c1-b0effdbd00a4",
   "metadata": {},
   "source": [
    "### 3. Direct operations"
   ]
  },
  {
   "cell_type": "code",
   "execution_count": 5,
   "id": "bd5389f2-39c9-4596-9aeb-b7fd0f25d3fd",
   "metadata": {},
   "outputs": [],
   "source": [
    "n1 = np.array([1,2,3,4])"
   ]
  },
  {
   "cell_type": "code",
   "execution_count": 6,
   "id": "2ffddca5-0ef6-4d83-81f8-b2be8c68aaff",
   "metadata": {},
   "outputs": [],
   "source": [
    "n2 = np.array([5,6,7,8])"
   ]
  },
  {
   "cell_type": "code",
   "execution_count": 7,
   "id": "7cc66ece-35d8-4684-a869-cb58216675ff",
   "metadata": {},
   "outputs": [
    {
     "data": {
      "text/plain": [
       "array([ 6,  8, 10, 12])"
      ]
     },
     "execution_count": 7,
     "metadata": {},
     "output_type": "execute_result"
    }
   ],
   "source": [
    "n1 + n2"
   ]
  },
  {
   "cell_type": "code",
   "execution_count": 8,
   "id": "a9c66fa1-0c27-47b5-b0ab-3451fc70fc38",
   "metadata": {},
   "outputs": [
    {
     "data": {
      "text/plain": [
       "array([-4, -4, -4, -4])"
      ]
     },
     "execution_count": 8,
     "metadata": {},
     "output_type": "execute_result"
    }
   ],
   "source": [
    "n1 - n2"
   ]
  },
  {
   "cell_type": "code",
   "execution_count": 9,
   "id": "8b7f311d-f95e-4ffe-9e13-8da4339c7183",
   "metadata": {
    "scrolled": true
   },
   "outputs": [
    {
     "data": {
      "text/plain": [
       "array([ 5, 12, 21, 32])"
      ]
     },
     "execution_count": 9,
     "metadata": {},
     "output_type": "execute_result"
    }
   ],
   "source": [
    "n1 * n2"
   ]
  },
  {
   "cell_type": "code",
   "execution_count": 10,
   "id": "110142bd-39a1-4072-9593-81a0c82967e8",
   "metadata": {},
   "outputs": [
    {
     "data": {
      "text/plain": [
       "array([0.2       , 0.33333333, 0.42857143, 0.5       ])"
      ]
     },
     "execution_count": 10,
     "metadata": {},
     "output_type": "execute_result"
    }
   ],
   "source": [
    "n1 / n2"
   ]
  },
  {
   "cell_type": "markdown",
   "id": "f75d5356-4d3c-4f49-b20c-a94c4fb726f2",
   "metadata": {},
   "source": [
    "# Functions"
   ]
  },
  {
   "cell_type": "markdown",
   "id": "22e67b32-0c7d-427f-a3a5-ec42fd16ed74",
   "metadata": {},
   "source": [
    "### 1. Building n-dimensional structures"
   ]
  },
  {
   "cell_type": "code",
   "execution_count": 11,
   "id": "b77e2c1c-fc28-4fad-af87-761aa1700b90",
   "metadata": {},
   "outputs": [
    {
     "data": {
      "text/plain": [
       "array(42)"
      ]
     },
     "execution_count": 11,
     "metadata": {},
     "output_type": "execute_result"
    }
   ],
   "source": [
    "arr = np.array(42) # O-D\n",
    "arr"
   ]
  },
  {
   "cell_type": "code",
   "execution_count": 12,
   "id": "06731b5c-2103-4ecc-b166-602880092655",
   "metadata": {},
   "outputs": [
    {
     "data": {
      "text/plain": [
       "array([1, 2, 3, 4, 5])"
      ]
     },
     "execution_count": 12,
     "metadata": {},
     "output_type": "execute_result"
    }
   ],
   "source": [
    "arr1 = np.array([1, 2, 3, 4, 5]) # 1-D\n",
    "arr1"
   ]
  },
  {
   "cell_type": "code",
   "execution_count": 13,
   "id": "d9e45b06-430c-4b69-8e08-efb3b38b6354",
   "metadata": {},
   "outputs": [
    {
     "data": {
      "text/plain": [
       "array([[1, 2, 3],\n",
       "       [4, 5, 6]])"
      ]
     },
     "execution_count": 13,
     "metadata": {},
     "output_type": "execute_result"
    }
   ],
   "source": [
    "arr2 = np.array([[1, 2, 3], [4, 5, 6]]) #2-D\n",
    "arr2"
   ]
  },
  {
   "cell_type": "code",
   "execution_count": 14,
   "id": "ceef03a7-8118-4c04-aa18-b0c85bd93f4c",
   "metadata": {},
   "outputs": [
    {
     "data": {
      "text/plain": [
       "array([[[1, 2, 3],\n",
       "        [4, 5, 6]],\n",
       "\n",
       "       [[1, 2, 3],\n",
       "        [4, 5, 6]]])"
      ]
     },
     "execution_count": 14,
     "metadata": {},
     "output_type": "execute_result"
    }
   ],
   "source": [
    "arr3 = np.array([[[1, 2, 3], [4, 5, 6]], [[1, 2, 3], [4, 5, 6]]]) # 3-D\n",
    "arr3"
   ]
  },
  {
   "cell_type": "markdown",
   "id": "daa930ab-fa92-40c7-a717-29bbaa90bd08",
   "metadata": {},
   "source": [
    "### 2. Check dimension"
   ]
  },
  {
   "cell_type": "code",
   "execution_count": 19,
   "id": "0396286d-f5dd-4284-8293-cb16566032d5",
   "metadata": {},
   "outputs": [],
   "source": [
    "a = np.array(42)\n",
    "b = np.array([1, 2, 3, 4, 5])\n",
    "c = np.array([[1, 2, 3], [4, 5, 6]])\n",
    "d = np.array([[[1, 2, 3], [4, 5, 6]], [[1, 2, 3], [4, 5, 6]]])"
   ]
  },
  {
   "cell_type": "code",
   "execution_count": 16,
   "id": "259c6672-6365-4a7c-9857-b06e80dd93f4",
   "metadata": {},
   "outputs": [
    {
     "data": {
      "text/plain": [
       "0"
      ]
     },
     "execution_count": 16,
     "metadata": {},
     "output_type": "execute_result"
    }
   ],
   "source": [
    "a.ndim"
   ]
  },
  {
   "cell_type": "code",
   "execution_count": 17,
   "id": "90eccc77-4213-4cd6-962d-15a938c19202",
   "metadata": {},
   "outputs": [
    {
     "data": {
      "text/plain": [
       "1"
      ]
     },
     "execution_count": 17,
     "metadata": {},
     "output_type": "execute_result"
    }
   ],
   "source": [
    "b.ndim"
   ]
  },
  {
   "cell_type": "code",
   "execution_count": 18,
   "id": "1cd80d97-98f7-4ae0-91cc-fcde752495db",
   "metadata": {},
   "outputs": [
    {
     "data": {
      "text/plain": [
       "2"
      ]
     },
     "execution_count": 18,
     "metadata": {},
     "output_type": "execute_result"
    }
   ],
   "source": [
    "c.ndim"
   ]
  },
  {
   "cell_type": "code",
   "execution_count": 20,
   "id": "dfac4ac2-c595-4122-9684-273fe1da1b1b",
   "metadata": {},
   "outputs": [
    {
     "data": {
      "text/plain": [
       "3"
      ]
     },
     "execution_count": 20,
     "metadata": {},
     "output_type": "execute_result"
    }
   ],
   "source": [
    "d.ndim"
   ]
  },
  {
   "cell_type": "markdown",
   "id": "52cfeb93-b089-4ea5-bcd0-afd38be463d5",
   "metadata": {},
   "source": [
    "### 3. Access array elements"
   ]
  },
  {
   "cell_type": "code",
   "execution_count": 25,
   "id": "cce309fe-7ed8-4f2c-a2c2-6df4028884da",
   "metadata": {},
   "outputs": [],
   "source": [
    "arr4 = np.array([1, 2, 3, 4]) # 1-D array"
   ]
  },
  {
   "cell_type": "code",
   "execution_count": 26,
   "id": "6af69326-1e8b-4eda-a0a0-0c538b4ffb56",
   "metadata": {},
   "outputs": [
    {
     "data": {
      "text/plain": [
       "(np.int64(1), np.int64(2))"
      ]
     },
     "execution_count": 26,
     "metadata": {},
     "output_type": "execute_result"
    }
   ],
   "source": [
    "arr4[0],arr4[1]"
   ]
  },
  {
   "cell_type": "code",
   "execution_count": 27,
   "id": "4fb804eb-28a8-479e-bb09-211ca7a71456",
   "metadata": {},
   "outputs": [],
   "source": [
    "arr5 = np.array([[1,2,3,4,5], [6,7,8,9,10]]) # 2-D array"
   ]
  },
  {
   "cell_type": "code",
   "execution_count": 28,
   "id": "6cbacbac-2fee-4906-8662-4de05989c6d2",
   "metadata": {},
   "outputs": [
    {
     "data": {
      "text/plain": [
       "array([[ 1,  2,  3,  4,  5],\n",
       "       [ 6,  7,  8,  9, 10]])"
      ]
     },
     "execution_count": 28,
     "metadata": {},
     "output_type": "execute_result"
    }
   ],
   "source": [
    "arr5"
   ]
  },
  {
   "cell_type": "code",
   "execution_count": 31,
   "id": "05cb8050-7b8f-4ee1-a2af-851f1d369215",
   "metadata": {},
   "outputs": [
    {
     "name": "stdout",
     "output_type": "stream",
     "text": [
      "10\n"
     ]
    }
   ],
   "source": [
    "print(arr5[1,4])"
   ]
  },
  {
   "cell_type": "code",
   "execution_count": 32,
   "id": "ded40dc2-35a9-45b8-a6c8-0b5752d30385",
   "metadata": {},
   "outputs": [],
   "source": [
    "arr6 = np.array([[[1, 2, 3], [4, 5, 6]], [[7, 8, 9], [10, 11, 12]]]) # 3-D array"
   ]
  },
  {
   "cell_type": "code",
   "execution_count": 33,
   "id": "c2c28d4a-7ef4-4513-9d6e-2a0e7799d696",
   "metadata": {},
   "outputs": [
    {
     "data": {
      "text/plain": [
       "array([[[ 1,  2,  3],\n",
       "        [ 4,  5,  6]],\n",
       "\n",
       "       [[ 7,  8,  9],\n",
       "        [10, 11, 12]]])"
      ]
     },
     "execution_count": 33,
     "metadata": {},
     "output_type": "execute_result"
    }
   ],
   "source": [
    "arr6"
   ]
  },
  {
   "cell_type": "code",
   "execution_count": null,
   "id": "4eee31d8-dfe8-4fdf-863f-8d9d5cf70c6b",
   "metadata": {},
   "outputs": [],
   "source": [
    "# 3-D : array[depth, row, column]"
   ]
  },
  {
   "cell_type": "code",
   "execution_count": 38,
   "id": "16dabd6c-28f3-4254-b0bf-c847af3e4769",
   "metadata": {},
   "outputs": [
    {
     "name": "stdout",
     "output_type": "stream",
     "text": [
      "3\n"
     ]
    }
   ],
   "source": [
    "print(arr6[0, 0, 2])"
   ]
  },
  {
   "cell_type": "markdown",
   "id": "77bdbe74-c38c-4a04-886e-598dc8bd0a73",
   "metadata": {},
   "source": [
    "### 4. Negative indexing"
   ]
  },
  {
   "cell_type": "code",
   "execution_count": 45,
   "id": "47b37362-643a-4703-8806-1d15798e475d",
   "metadata": {},
   "outputs": [],
   "source": [
    "arr7 = np.array([1, 2, 3, 4])"
   ]
  },
  {
   "cell_type": "code",
   "execution_count": 47,
   "id": "ed089882-4f94-4254-a39a-a824344f6b28",
   "metadata": {},
   "outputs": [
    {
     "data": {
      "text/plain": [
       "np.int64(2)"
      ]
     },
     "execution_count": 47,
     "metadata": {},
     "output_type": "execute_result"
    }
   ],
   "source": [
    "arr7[-3]"
   ]
  },
  {
   "cell_type": "code",
   "execution_count": 39,
   "id": "8b89b5d5-a990-4b61-b0ce-cfc8635bcfa2",
   "metadata": {},
   "outputs": [],
   "source": [
    "lista1=[1,2,3,4]"
   ]
  },
  {
   "cell_type": "code",
   "execution_count": null,
   "id": "9c895882-6abc-4c4f-b55c-917270bf6b44",
   "metadata": {},
   "outputs": [],
   "source": [
    "# [0,1,2,3]"
   ]
  },
  {
   "cell_type": "code",
   "execution_count": null,
   "id": "9e0250ee-6962-47fc-8212-8bccc80caa79",
   "metadata": {},
   "outputs": [],
   "source": [
    "# [-4,-3,-2,-1]"
   ]
  },
  {
   "cell_type": "markdown",
   "id": "263b4c16-0708-4d73-81fb-1b650ce285ac",
   "metadata": {},
   "source": [
    "### 5. Slicing"
   ]
  },
  {
   "cell_type": "code",
   "execution_count": 54,
   "id": "abb24395-8f22-4dde-bb2a-f620143269ca",
   "metadata": {},
   "outputs": [],
   "source": [
    "arr8 = np.array([10, 22, 33, 44, 55, 66, 77])"
   ]
  },
  {
   "cell_type": "code",
   "execution_count": 58,
   "id": "9554d5c1-90f3-4e8d-80d1-8be5dc8d76e2",
   "metadata": {},
   "outputs": [
    {
     "data": {
      "text/plain": [
       "array([22, 33, 44, 55])"
      ]
     },
     "execution_count": 58,
     "metadata": {},
     "output_type": "execute_result"
    }
   ],
   "source": [
    "arr8[1:-2] # 1-D"
   ]
  },
  {
   "cell_type": "code",
   "execution_count": 60,
   "id": "dd52e577-ac0a-4413-94bb-f32839a9abd6",
   "metadata": {},
   "outputs": [],
   "source": [
    "arr9 = np.array([[1,2,3,4,5], [6,7,8,9,10]])"
   ]
  },
  {
   "cell_type": "code",
   "execution_count": 62,
   "id": "6593def3-0272-41ae-a72f-3f24f7a0ae85",
   "metadata": {},
   "outputs": [
    {
     "data": {
      "text/plain": [
       "array([[3, 4]])"
      ]
     },
     "execution_count": 62,
     "metadata": {},
     "output_type": "execute_result"
    }
   ],
   "source": [
    "arr9[0:1,2:-1] # 2-D"
   ]
  },
  {
   "cell_type": "markdown",
   "id": "ca04f4b5-0c05-44ce-9049-ec00ef9968a8",
   "metadata": {},
   "source": [
    "### 6. Iteration"
   ]
  },
  {
   "cell_type": "code",
   "execution_count": 63,
   "id": "feccc849-41cd-4090-a767-8142ec266a3e",
   "metadata": {},
   "outputs": [],
   "source": [
    "arr10 = np.array([[6,7,8],[1,2,3],[4,5,6]])"
   ]
  },
  {
   "cell_type": "code",
   "execution_count": 64,
   "id": "0c480245-388f-41a4-9fd3-26b60d9f2e67",
   "metadata": {},
   "outputs": [
    {
     "data": {
      "text/plain": [
       "array([[6, 7, 8],\n",
       "       [1, 2, 3],\n",
       "       [4, 5, 6]])"
      ]
     },
     "execution_count": 64,
     "metadata": {},
     "output_type": "execute_result"
    }
   ],
   "source": [
    "arr10"
   ]
  },
  {
   "cell_type": "code",
   "execution_count": 67,
   "id": "718b4645-5a28-4f0a-ad78-47e533dc55bf",
   "metadata": {},
   "outputs": [
    {
     "name": "stdout",
     "output_type": "stream",
     "text": [
      "6\n",
      "7\n",
      "8\n",
      "1\n",
      "2\n",
      "3\n",
      "4\n",
      "5\n",
      "6\n"
     ]
    }
   ],
   "source": [
    "for row in arr10:\n",
    "    for i in row:\n",
    "        print(i)"
   ]
  },
  {
   "cell_type": "code",
   "execution_count": 66,
   "id": "ef3a0a18-8889-4b1f-ac8b-d558b42a8d46",
   "metadata": {},
   "outputs": [
    {
     "name": "stdout",
     "output_type": "stream",
     "text": [
      "6\n",
      "7\n",
      "8\n",
      "1\n",
      "2\n",
      "3\n",
      "4\n",
      "5\n",
      "6\n"
     ]
    }
   ],
   "source": [
    "for cell in arr10.flat:\n",
    "    print(cell)"
   ]
  },
  {
   "cell_type": "markdown",
   "id": "de7619b9-8508-43f8-8874-d3f2d81e260b",
   "metadata": {},
   "source": [
    "### 7. Stacking"
   ]
  },
  {
   "cell_type": "code",
   "execution_count": 69,
   "id": "e69fd275-07a5-40fb-87a1-af8a3710a4f5",
   "metadata": {},
   "outputs": [
    {
     "name": "stdout",
     "output_type": "stream",
     "text": [
      "0\n",
      "1\n",
      "2\n",
      "3\n",
      "4\n",
      "5\n",
      "6\n",
      "7\n",
      "8\n"
     ]
    }
   ],
   "source": [
    "lista1=range(0,9)\n",
    "for i in lista1:\n",
    "    print(i)"
   ]
  },
  {
   "cell_type": "code",
   "execution_count": 72,
   "id": "5a168e28-9442-4a15-9cd7-e23de03c63a3",
   "metadata": {},
   "outputs": [],
   "source": [
    "a = np.arange(6).reshape(3,2)"
   ]
  },
  {
   "cell_type": "code",
   "execution_count": 73,
   "id": "0b0652ac-8826-4654-b565-53f9100dfc13",
   "metadata": {},
   "outputs": [
    {
     "data": {
      "text/plain": [
       "array([[0, 1],\n",
       "       [2, 3],\n",
       "       [4, 5]])"
      ]
     },
     "execution_count": 73,
     "metadata": {},
     "output_type": "execute_result"
    }
   ],
   "source": [
    "a"
   ]
  },
  {
   "cell_type": "code",
   "execution_count": 74,
   "id": "595c1dee-2aa8-4b57-91cf-71da64656962",
   "metadata": {},
   "outputs": [],
   "source": [
    "b = np.arange(6,12).reshape(3,2)"
   ]
  },
  {
   "cell_type": "code",
   "execution_count": 75,
   "id": "df1ee057-5828-4f14-902e-954dbeae101f",
   "metadata": {},
   "outputs": [
    {
     "data": {
      "text/plain": [
       "array([[ 6,  7],\n",
       "       [ 8,  9],\n",
       "       [10, 11]])"
      ]
     },
     "execution_count": 75,
     "metadata": {},
     "output_type": "execute_result"
    }
   ],
   "source": [
    "b"
   ]
  },
  {
   "cell_type": "code",
   "execution_count": 76,
   "id": "f2fc4520-e958-446c-a030-b33d01b1c104",
   "metadata": {},
   "outputs": [
    {
     "data": {
      "text/plain": [
       "array([[ 0,  1],\n",
       "       [ 2,  3],\n",
       "       [ 4,  5],\n",
       "       [ 6,  7],\n",
       "       [ 8,  9],\n",
       "       [10, 11]])"
      ]
     },
     "execution_count": 76,
     "metadata": {},
     "output_type": "execute_result"
    }
   ],
   "source": [
    "np.vstack((a,b)) # Vertical stacking"
   ]
  },
  {
   "cell_type": "code",
   "execution_count": 77,
   "id": "a3a8fe91-dcc3-450f-ae80-7cfaace1b951",
   "metadata": {},
   "outputs": [
    {
     "data": {
      "text/plain": [
       "array([[ 0,  1,  6,  7],\n",
       "       [ 2,  3,  8,  9],\n",
       "       [ 4,  5, 10, 11]])"
      ]
     },
     "execution_count": 77,
     "metadata": {},
     "output_type": "execute_result"
    }
   ],
   "source": [
    "np.hstack((a,b)) # Horizontal stacking"
   ]
  },
  {
   "cell_type": "markdown",
   "id": "90c1be70-b15d-468e-a16b-eb13c990d234",
   "metadata": {},
   "source": [
    "### 8. Splitting"
   ]
  },
  {
   "cell_type": "code",
   "execution_count": 78,
   "id": "19295217-c090-4e62-9006-06f2c528d955",
   "metadata": {},
   "outputs": [],
   "source": [
    "c = np.arange(30).reshape(2,15)"
   ]
  },
  {
   "cell_type": "code",
   "execution_count": 79,
   "id": "96e33d1d-e005-414f-b2aa-774a18674f3c",
   "metadata": {},
   "outputs": [
    {
     "data": {
      "text/plain": [
       "array([[ 0,  1,  2,  3,  4,  5,  6,  7,  8,  9, 10, 11, 12, 13, 14],\n",
       "       [15, 16, 17, 18, 19, 20, 21, 22, 23, 24, 25, 26, 27, 28, 29]])"
      ]
     },
     "execution_count": 79,
     "metadata": {},
     "output_type": "execute_result"
    }
   ],
   "source": [
    "c"
   ]
  },
  {
   "cell_type": "code",
   "execution_count": 80,
   "id": "4b25ba01-e73a-410c-9f82-c9835de5d0f5",
   "metadata": {},
   "outputs": [],
   "source": [
    "rslt = np.hsplit(c,3)"
   ]
  },
  {
   "cell_type": "code",
   "execution_count": 81,
   "id": "05f8b52a-b785-41ad-b3c3-5ec2f57aa238",
   "metadata": {},
   "outputs": [
    {
     "data": {
      "text/plain": [
       "[array([[ 0,  1,  2,  3,  4],\n",
       "        [15, 16, 17, 18, 19]]),\n",
       " array([[ 5,  6,  7,  8,  9],\n",
       "        [20, 21, 22, 23, 24]]),\n",
       " array([[10, 11, 12, 13, 14],\n",
       "        [25, 26, 27, 28, 29]])]"
      ]
     },
     "execution_count": 81,
     "metadata": {},
     "output_type": "execute_result"
    }
   ],
   "source": [
    "rslt"
   ]
  },
  {
   "cell_type": "code",
   "execution_count": 84,
   "id": "efc34cc0-3457-4986-9926-848f828b1382",
   "metadata": {},
   "outputs": [
    {
     "data": {
      "text/plain": [
       "array([[10, 11, 12, 13, 14],\n",
       "       [25, 26, 27, 28, 29]])"
      ]
     },
     "execution_count": 84,
     "metadata": {},
     "output_type": "execute_result"
    }
   ],
   "source": [
    "rslt[2]"
   ]
  },
  {
   "cell_type": "markdown",
   "id": "62e6afc1-7976-48bc-bfc7-e8508fa67216",
   "metadata": {},
   "source": [
    "### 9. Indexing with boolean"
   ]
  },
  {
   "cell_type": "code",
   "execution_count": 85,
   "id": "4fbc7978-451c-4b2d-971b-8b38b36cf033",
   "metadata": {},
   "outputs": [],
   "source": [
    "a = np.arange(12).reshape(3,4)"
   ]
  },
  {
   "cell_type": "code",
   "execution_count": 86,
   "id": "e231d346-1345-4b63-bae9-603fe2e61195",
   "metadata": {},
   "outputs": [
    {
     "data": {
      "text/plain": [
       "array([[ 0,  1,  2,  3],\n",
       "       [ 4,  5,  6,  7],\n",
       "       [ 8,  9, 10, 11]])"
      ]
     },
     "execution_count": 86,
     "metadata": {},
     "output_type": "execute_result"
    }
   ],
   "source": [
    "a"
   ]
  },
  {
   "cell_type": "code",
   "execution_count": 87,
   "id": "5492998b-32b6-4a15-b483-ab2ee3fdfaa1",
   "metadata": {},
   "outputs": [],
   "source": [
    "b = a > 4"
   ]
  },
  {
   "cell_type": "code",
   "execution_count": 88,
   "id": "75e47376-a85d-4f4d-97ca-94eae3595c3c",
   "metadata": {},
   "outputs": [
    {
     "data": {
      "text/plain": [
       "array([[False, False, False, False],\n",
       "       [False,  True,  True,  True],\n",
       "       [ True,  True,  True,  True]])"
      ]
     },
     "execution_count": 88,
     "metadata": {},
     "output_type": "execute_result"
    }
   ],
   "source": [
    "b"
   ]
  },
  {
   "cell_type": "markdown",
   "id": "41a7f6b0-92a2-49a8-98c4-0632abff4051",
   "metadata": {},
   "source": [
    "## Properties\n",
    "\n",
    "### 1. ndim, itemsize, dtype"
   ]
  },
  {
   "cell_type": "code",
   "execution_count": 98,
   "id": "a4ee071f-cfe4-4935-b7f7-0de498ec207d",
   "metadata": {},
   "outputs": [],
   "source": [
    "a = np.array([5,6,9])\n",
    "a2 = np.array([[[1, 2, 3], [4, 5, 6]], [[1, 2, 3], [4, 5, 6]]])"
   ]
  },
  {
   "cell_type": "code",
   "execution_count": 92,
   "id": "70393995-a4b3-44cd-89c3-3be4b3b7358b",
   "metadata": {},
   "outputs": [
    {
     "name": "stdout",
     "output_type": "stream",
     "text": [
      "1\n",
      "3\n"
     ]
    }
   ],
   "source": [
    "print(a.ndim)\n",
    "print(a2.ndim)"
   ]
  },
  {
   "cell_type": "code",
   "execution_count": 93,
   "id": "a5a1b077-4b3e-4817-a1fc-eae5cb90012c",
   "metadata": {},
   "outputs": [
    {
     "name": "stdout",
     "output_type": "stream",
     "text": [
      "8\n",
      "8\n"
     ]
    }
   ],
   "source": [
    "print(a.itemsize)\n",
    "print(a2.itemsize)"
   ]
  },
  {
   "cell_type": "code",
   "execution_count": 99,
   "id": "11ac79a3-23df-4ba8-b724-b848f227fe43",
   "metadata": {},
   "outputs": [
    {
     "name": "stdout",
     "output_type": "stream",
     "text": [
      "[5 6 9]\n"
     ]
    }
   ],
   "source": [
    "print(a)"
   ]
  },
  {
   "cell_type": "markdown",
   "id": "d264c0ea-1885-42b9-a57d-6941ee1c1a1e",
   "metadata": {},
   "source": [
    "### 2. Changing datatype"
   ]
  },
  {
   "cell_type": "code",
   "execution_count": 102,
   "id": "9fb5724f-d6b9-4edd-a8df-5869dd5408e7",
   "metadata": {},
   "outputs": [],
   "source": [
    "a3 = np.array([11,22,33], dtype=np.float64)"
   ]
  },
  {
   "cell_type": "code",
   "execution_count": 104,
   "id": "f905bc33-dc4d-4c8d-9082-946f8b5f3d1f",
   "metadata": {},
   "outputs": [
    {
     "data": {
      "text/plain": [
       "array([11., 22., 33.])"
      ]
     },
     "execution_count": 104,
     "metadata": {},
     "output_type": "execute_result"
    }
   ],
   "source": [
    "a3"
   ]
  },
  {
   "cell_type": "code",
   "execution_count": 103,
   "id": "ed8a77fe-1434-4e74-b206-fca036949aeb",
   "metadata": {},
   "outputs": [
    {
     "data": {
      "text/plain": [
       "dtype('float64')"
      ]
     },
     "execution_count": 103,
     "metadata": {},
     "output_type": "execute_result"
    }
   ],
   "source": [
    "a3.dtype"
   ]
  },
  {
   "cell_type": "markdown",
   "id": "0f69bec7-86cd-447e-8719-78bc162a68c7",
   "metadata": {},
   "source": [
    "### 3. size, shape"
   ]
  },
  {
   "cell_type": "code",
   "execution_count": 105,
   "id": "e12b8d84-4ddb-4609-bb00-ffb6cf16e356",
   "metadata": {},
   "outputs": [
    {
     "name": "stdout",
     "output_type": "stream",
     "text": [
      "3\n",
      "12\n"
     ]
    }
   ],
   "source": [
    "print(a.size)\n",
    "print(a2.size)"
   ]
  },
  {
   "cell_type": "code",
   "execution_count": 106,
   "id": "80b9d640-d34b-4f64-a901-fc50f4c359ae",
   "metadata": {},
   "outputs": [
    {
     "name": "stdout",
     "output_type": "stream",
     "text": [
      "(3,)\n",
      "(2, 2, 3)\n"
     ]
    }
   ],
   "source": [
    "print(a.shape)\n",
    "print(a2.shape)"
   ]
  },
  {
   "cell_type": "code",
   "execution_count": 107,
   "id": "298a492d-7804-464b-a388-0a5184f67526",
   "metadata": {},
   "outputs": [
    {
     "data": {
      "text/plain": [
       "array([[[1, 2, 3],\n",
       "        [4, 5, 6]],\n",
       "\n",
       "       [[1, 2, 3],\n",
       "        [4, 5, 6]]])"
      ]
     },
     "execution_count": 107,
     "metadata": {},
     "output_type": "execute_result"
    }
   ],
   "source": [
    "a2"
   ]
  },
  {
   "cell_type": "markdown",
   "id": "a9bad160-f662-4591-a4f5-5334cd2e7865",
   "metadata": {},
   "source": [
    "### 4. zeros, ones"
   ]
  },
  {
   "cell_type": "code",
   "execution_count": 111,
   "id": "c255bfd7-4ae8-48b4-b226-672c829384f5",
   "metadata": {},
   "outputs": [
    {
     "data": {
      "text/plain": [
       "array([[0, 0, 0],\n",
       "       [0, 0, 0]])"
      ]
     },
     "execution_count": 111,
     "metadata": {},
     "output_type": "execute_result"
    }
   ],
   "source": [
    "np.zeros((2,3), dtype=np.int64)"
   ]
  },
  {
   "cell_type": "code",
   "execution_count": 109,
   "id": "cdb05095-a2cd-4093-b221-481a3db14bb8",
   "metadata": {},
   "outputs": [
    {
     "data": {
      "text/plain": [
       "array([[1., 1., 1.],\n",
       "       [1., 1., 1.],\n",
       "       [1., 1., 1.]])"
      ]
     },
     "execution_count": 109,
     "metadata": {},
     "output_type": "execute_result"
    }
   ],
   "source": [
    "np.ones((3,3))"
   ]
  },
  {
   "cell_type": "markdown",
   "id": "4a19a0e9-29dd-4414-9ea5-e045b184e0ed",
   "metadata": {},
   "source": [
    "### 5. arange, linspace"
   ]
  },
  {
   "cell_type": "code",
   "execution_count": 112,
   "id": "8b62b738-70d9-4305-a564-6561fb4b6c9c",
   "metadata": {},
   "outputs": [
    {
     "data": {
      "text/plain": [
       "array([1, 3, 5, 7, 9])"
      ]
     },
     "execution_count": 112,
     "metadata": {},
     "output_type": "execute_result"
    }
   ],
   "source": [
    "np.arange(1,10,2)"
   ]
  },
  {
   "cell_type": "code",
   "execution_count": 114,
   "id": "2e740540-b4f8-4427-9284-8b3ecbba780c",
   "metadata": {},
   "outputs": [
    {
     "data": {
      "text/plain": [
       "array([1.        , 1.44444444, 1.88888889, 2.33333333, 2.77777778,\n",
       "       3.22222222, 3.66666667, 4.11111111, 4.55555556, 5.        ])"
      ]
     },
     "execution_count": 114,
     "metadata": {},
     "output_type": "execute_result"
    }
   ],
   "source": [
    "np.linspace(1,5,10)"
   ]
  },
  {
   "cell_type": "markdown",
   "id": "6ab3021c-68c0-4f73-bab0-3ef79bb76c52",
   "metadata": {},
   "source": [
    "### 6. reshape"
   ]
  },
  {
   "cell_type": "code",
   "execution_count": 115,
   "id": "d9fdcf5c-f230-4966-af0e-fea7ca3e7de1",
   "metadata": {},
   "outputs": [],
   "source": [
    "a3 = np.array([[1,2],[3,4],[5,6]])"
   ]
  },
  {
   "cell_type": "code",
   "execution_count": 116,
   "id": "57b005eb-8010-43c6-8e19-36466d701adc",
   "metadata": {},
   "outputs": [
    {
     "data": {
      "text/plain": [
       "array([[1, 2],\n",
       "       [3, 4],\n",
       "       [5, 6]])"
      ]
     },
     "execution_count": 116,
     "metadata": {},
     "output_type": "execute_result"
    }
   ],
   "source": [
    "a3"
   ]
  },
  {
   "cell_type": "code",
   "execution_count": 117,
   "id": "c96092ca-0d4d-466d-ae70-7c6e1895eb6e",
   "metadata": {},
   "outputs": [
    {
     "data": {
      "text/plain": [
       "(3, 2)"
      ]
     },
     "execution_count": 117,
     "metadata": {},
     "output_type": "execute_result"
    }
   ],
   "source": [
    "a3.shape"
   ]
  },
  {
   "cell_type": "code",
   "execution_count": 118,
   "id": "bdb54d25-ef29-477f-9d11-0c5854e7a1e5",
   "metadata": {},
   "outputs": [
    {
     "data": {
      "text/plain": [
       "array([[1, 2, 3],\n",
       "       [4, 5, 6]])"
      ]
     },
     "execution_count": 118,
     "metadata": {},
     "output_type": "execute_result"
    }
   ],
   "source": [
    "a3.reshape(2,3)"
   ]
  },
  {
   "cell_type": "markdown",
   "id": "dd8e30bf-bb9d-465b-88a7-453a5322b18f",
   "metadata": {},
   "source": [
    "### 7. ravel"
   ]
  },
  {
   "cell_type": "code",
   "execution_count": 122,
   "id": "711f84a0-f40b-41dc-a98f-bec9df6f6db2",
   "metadata": {},
   "outputs": [],
   "source": [
    "a3=a3.ravel()"
   ]
  },
  {
   "cell_type": "code",
   "execution_count": 123,
   "id": "a2250b0f-842f-4d02-9829-a0ae569a60b4",
   "metadata": {},
   "outputs": [
    {
     "data": {
      "text/plain": [
       "array([1, 2, 3, 4, 5, 6])"
      ]
     },
     "execution_count": 123,
     "metadata": {},
     "output_type": "execute_result"
    }
   ],
   "source": [
    "a3"
   ]
  },
  {
   "cell_type": "markdown",
   "id": "9b9801d5-3a8a-4cce-aa8e-02f608e5b328",
   "metadata": {},
   "source": [
    "### 8. min, max, sum"
   ]
  },
  {
   "cell_type": "code",
   "execution_count": 137,
   "id": "17311487-5e19-4860-99f0-0957b6c88b13",
   "metadata": {},
   "outputs": [
    {
     "data": {
      "text/plain": [
       "array([[[1, 2, 3],\n",
       "        [4, 5, 6]],\n",
       "\n",
       "       [[1, 2, 3],\n",
       "        [4, 5, 6]]])"
      ]
     },
     "execution_count": 137,
     "metadata": {},
     "output_type": "execute_result"
    }
   ],
   "source": [
    "a2"
   ]
  },
  {
   "cell_type": "code",
   "execution_count": 127,
   "id": "4f1accd3-1d38-4b56-8ec7-71bf67925f20",
   "metadata": {},
   "outputs": [
    {
     "name": "stdout",
     "output_type": "stream",
     "text": [
      "1\n"
     ]
    }
   ],
   "source": [
    "print(a2.min())"
   ]
  },
  {
   "cell_type": "code",
   "execution_count": 128,
   "id": "2ef0678e-7892-43cd-8ddc-1c1702858924",
   "metadata": {},
   "outputs": [
    {
     "name": "stdout",
     "output_type": "stream",
     "text": [
      "6\n"
     ]
    }
   ],
   "source": [
    "print(a2.max())"
   ]
  },
  {
   "cell_type": "code",
   "execution_count": 130,
   "id": "97a39ea7-5657-433e-9078-37c139af4350",
   "metadata": {},
   "outputs": [
    {
     "data": {
      "text/plain": [
       "array([1, 2, 3, 4, 5, 6])"
      ]
     },
     "execution_count": 130,
     "metadata": {},
     "output_type": "execute_result"
    }
   ],
   "source": [
    "a3"
   ]
  },
  {
   "cell_type": "code",
   "execution_count": 131,
   "id": "bf6a0491-81ab-49fd-8504-f750b28fe90b",
   "metadata": {},
   "outputs": [],
   "source": [
    "a = np.arange(6).reshape(3,2)"
   ]
  },
  {
   "cell_type": "code",
   "execution_count": 132,
   "id": "ede97a21-9e1b-4108-b6bc-7832fb3bdf40",
   "metadata": {},
   "outputs": [
    {
     "data": {
      "text/plain": [
       "array([[0, 1],\n",
       "       [2, 3],\n",
       "       [4, 5]])"
      ]
     },
     "execution_count": 132,
     "metadata": {},
     "output_type": "execute_result"
    }
   ],
   "source": [
    "a"
   ]
  },
  {
   "cell_type": "code",
   "execution_count": 139,
   "id": "e0dee649-9d7f-4328-be56-c360929d28d3",
   "metadata": {},
   "outputs": [
    {
     "data": {
      "text/plain": [
       "array([[ 2,  4,  6],\n",
       "       [ 8, 10, 12]])"
      ]
     },
     "execution_count": 139,
     "metadata": {},
     "output_type": "execute_result"
    }
   ],
   "source": [
    "a2.sum(axis=0)"
   ]
  },
  {
   "cell_type": "code",
   "execution_count": 141,
   "id": "f1e7ea5b-b64f-4611-a015-e775f2189cd1",
   "metadata": {},
   "outputs": [
    {
     "data": {
      "text/plain": [
       "array([[5, 7, 9],\n",
       "       [5, 7, 9]])"
      ]
     },
     "execution_count": 141,
     "metadata": {},
     "output_type": "execute_result"
    }
   ],
   "source": [
    "a2.sum(axis=1)"
   ]
  },
  {
   "cell_type": "markdown",
   "id": "e2001920-2cc2-4f86-baa1-99dfdf96b46a",
   "metadata": {},
   "source": [
    "# List comprehension"
   ]
  },
  {
   "cell_type": "code",
   "execution_count": 145,
   "id": "8110a895-550d-4859-9407-be176d6935e4",
   "metadata": {},
   "outputs": [
    {
     "name": "stdout",
     "output_type": "stream",
     "text": [
      "['c', 'a', 's', 'a']\n"
     ]
    }
   ],
   "source": [
    "lista = []\n",
    "for letra in 'casa':\n",
    "    lista.append(letra)\n",
    "print(lista)"
   ]
  },
  {
   "cell_type": "code",
   "execution_count": 146,
   "id": "1b07b32b-2638-4de6-ab19-bb961e7df728",
   "metadata": {},
   "outputs": [
    {
     "name": "stdout",
     "output_type": "stream",
     "text": [
      "['c', 'a', 's', 'a']\n"
     ]
    }
   ],
   "source": [
    "lista = [letra for letra in 'casa']\n",
    "print(lista)"
   ]
  },
  {
   "cell_type": "markdown",
   "id": "9e9350ed-336a-482f-a5f7-3b8a36721649",
   "metadata": {},
   "source": [
    "# Lambda expressions"
   ]
  },
  {
   "cell_type": "code",
   "execution_count": 147,
   "id": "28337ecb-92fa-40bd-b0bf-a596e8725819",
   "metadata": {},
   "outputs": [],
   "source": [
    "def sumar(a,b):\n",
    "    return a+b"
   ]
  },
  {
   "cell_type": "code",
   "execution_count": 149,
   "id": "17622f3e-e27d-48d5-afb0-0a512fb2c32d",
   "metadata": {},
   "outputs": [
    {
     "data": {
      "text/plain": [
       "98"
      ]
     },
     "execution_count": 149,
     "metadata": {},
     "output_type": "execute_result"
    }
   ],
   "source": [
    "sumar(52,46)"
   ]
  },
  {
   "cell_type": "code",
   "execution_count": 150,
   "id": "27814127-4f69-4b01-a1fd-01a87c3fa7b2",
   "metadata": {},
   "outputs": [],
   "source": [
    "x=lambda a,b:a+b"
   ]
  },
  {
   "cell_type": "code",
   "execution_count": 152,
   "id": "3ef5fdeb-166e-4e54-aa26-a5d955498895",
   "metadata": {},
   "outputs": [
    {
     "data": {
      "text/plain": [
       "98"
      ]
     },
     "execution_count": 152,
     "metadata": {},
     "output_type": "execute_result"
    }
   ],
   "source": [
    "x(52,46)"
   ]
  },
  {
   "cell_type": "markdown",
   "id": "5041b21a-f247-4bb3-b45c-d231ad916c42",
   "metadata": {},
   "source": [
    "# **Ejercicios propuestos**\n",
    "## 1. Crear un vector con valores dentro del rango 10 a 49\n",
    "## 2. Invierte el vector creado en el ejercicio 1\n",
    "## 3. Crear una matriz 3x3 con valores de 0 a 8\n",
    "## 4. Crear una lista con las potencias de 2 de los primeros 10 números (En una sola linea de codigo)\n",
    "## 5. Crear una lista con los todos los múltiples de 2 entre 0 y 10 (En una sola linea de codigo)\n",
    "## 6. Crea una función lambda que reciba como argumento un número y obtenga la raiz cuadrada de dicho número"
   ]
  },
  {
   "cell_type": "code",
   "execution_count": 154,
   "id": "43d148e1-58e8-4ecf-ba2c-88945c9220dd",
   "metadata": {},
   "outputs": [
    {
     "name": "stdout",
     "output_type": "stream",
     "text": [
      "[10 11 12 13 14 15 16 17 18 19 20 21 22 23 24 25 26 27 28 29 30 31 32 33\n",
      " 34 35 36 37 38 39 40 41 42 43 44 45 46 47 48 49]\n"
     ]
    }
   ],
   "source": [
    "vector = np.arange(10,50)\n",
    "print(vector)"
   ]
  },
  {
   "cell_type": "code",
   "execution_count": 155,
   "id": "6b8ef951-324e-4e7f-8488-f5cec86ab78d",
   "metadata": {},
   "outputs": [
    {
     "name": "stdout",
     "output_type": "stream",
     "text": [
      "[49 48 47 46 45 44 43 42 41 40 39 38 37 36 35 34 33 32 31 30 29 28 27 26\n",
      " 25 24 23 22 21 20 19 18 17 16 15 14 13 12 11 10]\n"
     ]
    }
   ],
   "source": [
    "vector = vector[::-1]\n",
    "print(vector)"
   ]
  },
  {
   "cell_type": "code",
   "execution_count": 156,
   "id": "401e430d-dbe3-4fe1-8850-f9169ec0094d",
   "metadata": {},
   "outputs": [],
   "source": [
    "valores = np.arange(9)\n",
    "matriz = valores.reshape(3, 3)"
   ]
  },
  {
   "cell_type": "code",
   "execution_count": 157,
   "id": "920f8993-9ffe-475c-ad84-95963a83ddad",
   "metadata": {},
   "outputs": [
    {
     "data": {
      "text/plain": [
       "array([[0, 1, 2],\n",
       "       [3, 4, 5],\n",
       "       [6, 7, 8]])"
      ]
     },
     "execution_count": 157,
     "metadata": {},
     "output_type": "execute_result"
    }
   ],
   "source": [
    "matriz"
   ]
  },
  {
   "cell_type": "code",
   "execution_count": 158,
   "id": "17ff69e5-5c4f-4b7a-b354-91a04d512874",
   "metadata": {},
   "outputs": [
    {
     "name": "stdout",
     "output_type": "stream",
     "text": [
      "[2, 4, 8, 16, 32, 64, 128, 256, 512, 1024]\n"
     ]
    }
   ],
   "source": [
    "lista = [2**i for i in range(1,11)]\n",
    "print(lista)"
   ]
  },
  {
   "cell_type": "code",
   "execution_count": 161,
   "id": "ed2927d1-6df6-4242-969e-631903533d48",
   "metadata": {},
   "outputs": [
    {
     "name": "stdout",
     "output_type": "stream",
     "text": [
      "[0, 2, 4, 6, 8, 10]\n"
     ]
    }
   ],
   "source": [
    "multiplos = [x for x in range(0, 11) if x % 2 == 0]\n",
    "print(multiplos)"
   ]
  },
  {
   "cell_type": "code",
   "execution_count": 163,
   "id": "275facab-46d4-434a-a088-b1334e213cd3",
   "metadata": {},
   "outputs": [
    {
     "data": {
      "text/plain": [
       "1.7320508075688772"
      ]
     },
     "execution_count": 163,
     "metadata": {},
     "output_type": "execute_result"
    }
   ],
   "source": [
    "x=lambda a:a**0.5\n",
    "x(3)"
   ]
  },
  {
   "cell_type": "code",
   "execution_count": 164,
   "id": "19cc3202-4690-47ee-b845-92ac07599019",
   "metadata": {},
   "outputs": [
    {
     "name": "stdout",
     "output_type": "stream",
     "text": [
      "[49 48 47 46 45 44 43 42 41 40 39 38 37 36 35 34 33 32 31 30 29 28 27 26\n",
      " 25 24 23 22 21 20 19 18 17 16 15 14 13 12 11 10]\n"
     ]
    }
   ],
   "source": [
    "vector = np.arange(10,50)\n",
    "vector = np.flip(vector)\n",
    "print(vector)"
   ]
  },
  {
   "cell_type": "code",
   "execution_count": null,
   "id": "a1f08890-8351-4354-8dc1-fb8b1c2d11ec",
   "metadata": {},
   "outputs": [],
   "source": []
  }
 ],
 "metadata": {
  "kernelspec": {
   "display_name": "Python 3 (ipykernel)",
   "language": "python",
   "name": "python3"
  },
  "language_info": {
   "codemirror_mode": {
    "name": "ipython",
    "version": 3
   },
   "file_extension": ".py",
   "mimetype": "text/x-python",
   "name": "python",
   "nbconvert_exporter": "python",
   "pygments_lexer": "ipython3",
   "version": "3.12.3"
  }
 },
 "nbformat": 4,
 "nbformat_minor": 5
}
