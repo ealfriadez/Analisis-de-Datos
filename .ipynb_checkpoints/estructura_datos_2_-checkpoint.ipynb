{
 "cells": [
  {
   "cell_type": "code",
   "execution_count": 3,
   "id": "7223a614-5841-4b15-8c4b-ca507413ea50",
   "metadata": {},
   "outputs": [
    {
     "name": "stdout",
     "output_type": "stream",
     "text": [
      "Espacio en memoria para lista: 800984\n",
      "Espacio en memoria para tupla: 800040\n"
     ]
    }
   ],
   "source": [
    "from sys import getsizeof\n",
    "lst = list(x for x in range(10**5))\n",
    "print('Espacio en memoria para lista: ' + str(getsizeof(lst)))\n",
    "tple = tuple(x for x in range(10**5))\n",
    "print('Espacio en memoria para tupla: ' + str(getsizeof(tple)))"
   ]
  },
  {
   "cell_type": "code",
   "execution_count": 5,
   "id": "af5bc06b-e31a-47cf-b11d-3c444decf01c",
   "metadata": {},
   "outputs": [
    {
     "data": {
      "text/plain": [
       "(1, 'mango', 3.1416, ['a', 'b'])"
      ]
     },
     "execution_count": 5,
     "metadata": {},
     "output_type": "execute_result"
    }
   ],
   "source": [
    "x=1, 'mango', 3.1416, ['a', 'b']\n",
    "x"
   ]
  },
  {
   "cell_type": "code",
   "execution_count": 7,
   "id": "4eb08974-52db-4ec7-b5de-5cd452f3942c",
   "metadata": {},
   "outputs": [
    {
     "data": {
      "text/plain": [
       "tuple"
      ]
     },
     "execution_count": 7,
     "metadata": {},
     "output_type": "execute_result"
    }
   ],
   "source": [
    "type(x)"
   ]
  },
  {
   "cell_type": "code",
   "execution_count": 9,
   "id": "c3168d8d-3ae8-4bda-bee3-f5cbb846fc89",
   "metadata": {},
   "outputs": [
    {
     "data": {
      "text/plain": [
       "['a', 'b']"
      ]
     },
     "execution_count": 9,
     "metadata": {},
     "output_type": "execute_result"
    }
   ],
   "source": [
    "x[3]"
   ]
  },
  {
   "cell_type": "code",
   "execution_count": 11,
   "id": "7680a935-daae-42d5-b173-6667ce34d403",
   "metadata": {},
   "outputs": [
    {
     "data": {
      "text/plain": [
       "list"
      ]
     },
     "execution_count": 11,
     "metadata": {},
     "output_type": "execute_result"
    }
   ],
   "source": [
    "type(x[3])"
   ]
  },
  {
   "cell_type": "code",
   "execution_count": 13,
   "id": "76b5ef5b-48b3-46bb-8d4f-21653f8a4332",
   "metadata": {},
   "outputs": [
    {
     "data": {
      "text/plain": [
       "float"
      ]
     },
     "execution_count": 13,
     "metadata": {},
     "output_type": "execute_result"
    }
   ],
   "source": [
    "type(x[2])"
   ]
  },
  {
   "cell_type": "code",
   "execution_count": 15,
   "id": "83fdc3e5-7d64-4c3b-9578-0740c8b0e2d0",
   "metadata": {},
   "outputs": [
    {
     "data": {
      "text/plain": [
       "str"
      ]
     },
     "execution_count": 15,
     "metadata": {},
     "output_type": "execute_result"
    }
   ],
   "source": [
    "type(x[1])"
   ]
  },
  {
   "cell_type": "code",
   "execution_count": 17,
   "id": "7a543c37-3c23-4730-9143-2e7d2ec454fd",
   "metadata": {},
   "outputs": [
    {
     "data": {
      "text/plain": [
       "int"
      ]
     },
     "execution_count": 17,
     "metadata": {},
     "output_type": "execute_result"
    }
   ],
   "source": [
    "type(x[0])"
   ]
  },
  {
   "cell_type": "code",
   "execution_count": 19,
   "id": "8ddde049-e355-4379-81c8-40a4a2c67b14",
   "metadata": {},
   "outputs": [
    {
     "data": {
      "text/plain": [
       "1"
      ]
     },
     "execution_count": 19,
     "metadata": {},
     "output_type": "execute_result"
    }
   ],
   "source": [
    "x.count('mango')"
   ]
  },
  {
   "cell_type": "code",
   "execution_count": 21,
   "id": "354b069d-d98d-491d-add2-c38d1f7c0a4a",
   "metadata": {},
   "outputs": [
    {
     "data": {
      "text/plain": [
       "(1, 'a', 3.1416)"
      ]
     },
     "execution_count": 21,
     "metadata": {},
     "output_type": "execute_result"
    }
   ],
   "source": [
    "t=1, 'a', 3.1416\n",
    "t"
   ]
  },
  {
   "cell_type": "code",
   "execution_count": 23,
   "id": "2ed25194-2d54-4930-bcf6-bb79408e87c8",
   "metadata": {},
   "outputs": [],
   "source": [
    "x, y, z=t"
   ]
  },
  {
   "cell_type": "code",
   "execution_count": 27,
   "id": "f574211d-3011-4ed7-8063-6cf032d34f65",
   "metadata": {},
   "outputs": [
    {
     "data": {
      "text/plain": [
       "(1, 'mango', 3.1416, ['a', 'b'], 'mango')"
      ]
     },
     "execution_count": 27,
     "metadata": {},
     "output_type": "execute_result"
    }
   ],
   "source": [
    "x=(1, 'mango', 3.1416, ['a', 'b'], 'mango')\n",
    "x"
   ]
  },
  {
   "cell_type": "code",
   "execution_count": 29,
   "id": "f23f4942-210d-4981-8aeb-434f36b67342",
   "metadata": {},
   "outputs": [
    {
     "data": {
      "text/plain": [
       "2"
      ]
     },
     "execution_count": 29,
     "metadata": {},
     "output_type": "execute_result"
    }
   ],
   "source": [
    "x.count('mango')"
   ]
  },
  {
   "cell_type": "code",
   "execution_count": 31,
   "id": "1dff8032-921d-4fbb-9e3a-e4c030bab3e9",
   "metadata": {},
   "outputs": [],
   "source": [
    "(x, y, z)=t"
   ]
  },
  {
   "cell_type": "code",
   "execution_count": 33,
   "id": "d73160b4-88e9-4828-b685-9d68c6d5963a",
   "metadata": {},
   "outputs": [
    {
     "name": "stdout",
     "output_type": "stream",
     "text": [
      "1\n",
      "a\n",
      "3.1416\n"
     ]
    }
   ],
   "source": [
    "print(x)\n",
    "print(y)\n",
    "print(z)"
   ]
  },
  {
   "cell_type": "code",
   "execution_count": 47,
   "id": "bb7479c0-d831-4ee6-987f-70c79d12feee",
   "metadata": {},
   "outputs": [
    {
     "data": {
      "text/plain": [
       "<zip at 0x12e20eb2b40>"
      ]
     },
     "execution_count": 47,
     "metadata": {},
     "output_type": "execute_result"
    }
   ],
   "source": [
    "nombres=['Maria', 'Pepe', 'Luisa']\n",
    "edades=[20, 18, 30]\n",
    "sexos=['F', 'M', 'F']\n",
    "t=zip(nombres, edades, sexos)\n",
    "t"
   ]
  },
  {
   "cell_type": "code",
   "execution_count": 49,
   "id": "241e33df-e35f-4b19-9e12-75fbfa66bd24",
   "metadata": {},
   "outputs": [
    {
     "data": {
      "text/plain": [
       "[('Maria', 20, 'F'), ('Pepe', 18, 'M'), ('Luisa', 30, 'F')]"
      ]
     },
     "execution_count": 49,
     "metadata": {},
     "output_type": "execute_result"
    }
   ],
   "source": [
    "list(t)"
   ]
  },
  {
   "cell_type": "code",
   "execution_count": 41,
   "id": "e8f3ba0b-3f70-4ddd-8efa-5db703048d9e",
   "metadata": {},
   "outputs": [
    {
     "data": {
      "text/plain": [
       "float"
      ]
     },
     "execution_count": 41,
     "metadata": {},
     "output_type": "execute_result"
    }
   ],
   "source": [
    "type(z)"
   ]
  },
  {
   "cell_type": "code",
   "execution_count": 51,
   "id": "66aa23af-9389-4afb-9060-59763d6a4204",
   "metadata": {},
   "outputs": [
    {
     "data": {
      "text/plain": [
       "[(0, 'Maria'), (1, 'Pepe'), (2, 'Luisa')]"
      ]
     },
     "execution_count": 51,
     "metadata": {},
     "output_type": "execute_result"
    }
   ],
   "source": [
    "nombres=['Maria', 'Pepe', 'Luisa']\n",
    "t=enumerate(nombres)\n",
    "list(t)"
   ]
  },
  {
   "cell_type": "markdown",
   "id": "5e9e6cec-b447-4eb6-8491-10d6ac1d927f",
   "metadata": {},
   "source": [
    "# DICCIONARIOS"
   ]
  },
  {
   "cell_type": "code",
   "execution_count": 68,
   "id": "38428743-9e81-4827-aca5-fe94adf174e7",
   "metadata": {},
   "outputs": [
    {
     "data": {
      "text/plain": [
       "{'Nombre': 'Sara', 'Edad': 27, 'Documento': 1003882}"
      ]
     },
     "execution_count": 68,
     "metadata": {},
     "output_type": "execute_result"
    }
   ],
   "source": [
    "d1 = {\n",
    "    \"Nombre\": \"Sara\",\n",
    "    \"Edad\": 27,\n",
    "    \"Documento\": 1003882\n",
    "}\n",
    "d1"
   ]
  },
  {
   "cell_type": "code",
   "execution_count": 70,
   "id": "be084e9c-6cf4-404d-a03a-6a63bd7cdb11",
   "metadata": {},
   "outputs": [
    {
     "data": {
      "text/plain": [
       "dict"
      ]
     },
     "execution_count": 70,
     "metadata": {},
     "output_type": "execute_result"
    }
   ],
   "source": [
    "type(d1)"
   ]
  },
  {
   "cell_type": "code",
   "execution_count": 72,
   "id": "4d256d89-0b47-4a3a-a23b-2f4df12ffe0f",
   "metadata": {},
   "outputs": [
    {
     "data": {
      "text/plain": [
       "{'Nombre': 'Sara', 'Edad': 27, 'Documento': 1003882}"
      ]
     },
     "execution_count": 72,
     "metadata": {},
     "output_type": "execute_result"
    }
   ],
   "source": [
    "d1"
   ]
  },
  {
   "cell_type": "code",
   "execution_count": 82,
   "id": "176182ec-2948-4f73-a530-8b88bf841952",
   "metadata": {},
   "outputs": [
    {
     "data": {
      "text/plain": [
       "{'Nombre': 'Maria', 'Edad': 30, 'Documento': 1003882}"
      ]
     },
     "execution_count": 82,
     "metadata": {},
     "output_type": "execute_result"
    }
   ],
   "source": [
    "d2=dict([('Nombre', 'Maria'), ('Edad', 30), ('Documento', 1003882)])\n",
    "d2"
   ]
  },
  {
   "cell_type": "code",
   "execution_count": 76,
   "id": "fd54873e-0e9c-472a-a29c-c93cf859f53a",
   "metadata": {},
   "outputs": [
    {
     "data": {
      "text/plain": [
       "dict"
      ]
     },
     "execution_count": 76,
     "metadata": {},
     "output_type": "execute_result"
    }
   ],
   "source": [
    "type(d2)"
   ]
  },
  {
   "cell_type": "code",
   "execution_count": 80,
   "id": "73ceea29-2281-4385-9039-dfc97a8114a8",
   "metadata": {},
   "outputs": [
    {
     "data": {
      "text/plain": [
       "{'Nombre': 'Elio', 'Edad': 27, 'Documento': 1003882}"
      ]
     },
     "execution_count": 80,
     "metadata": {},
     "output_type": "execute_result"
    }
   ],
   "source": [
    "d3=dict(Nombre='Elio', Edad=27, Documento=1003882)\n",
    "d3"
   ]
  },
  {
   "cell_type": "markdown",
   "id": "bffe7145-8467-49e4-805e-bb682cba51b5",
   "metadata": {},
   "source": [
    "# PROPIEDADES DE DICCIONARIOS"
   ]
  },
  {
   "cell_type": "code",
   "execution_count": 86,
   "id": "b66ac2bb-4694-45a6-b7e0-1fb30cb54e9f",
   "metadata": {},
   "outputs": [
    {
     "data": {
      "text/plain": [
       "{'Nombre': 'Sara', 'Edad': 27, 'Documento': 1003882}"
      ]
     },
     "execution_count": 86,
     "metadata": {},
     "output_type": "execute_result"
    }
   ],
   "source": [
    "d1 = {\n",
    "    \"Nombre\": \"Sara\",\n",
    "    \"Edad\": 27,\n",
    "    \"Documento\": 1003882\n",
    "}\n",
    "d1"
   ]
  },
  {
   "cell_type": "code",
   "execution_count": 88,
   "id": "a5df0357-55c8-44e0-9959-8e4e2cfa977b",
   "metadata": {},
   "outputs": [
    {
     "data": {
      "text/plain": [
       "'Sara'"
      ]
     },
     "execution_count": 88,
     "metadata": {},
     "output_type": "execute_result"
    }
   ],
   "source": [
    "d1[\"Nombre\"]"
   ]
  },
  {
   "cell_type": "code",
   "execution_count": 104,
   "id": "e07c32b9-c881-411b-84af-a43d0ba6cbe0",
   "metadata": {},
   "outputs": [
    {
     "data": {
      "text/plain": [
       "{'Nombre': 'Sara',\n",
       " 'Edad': 27,\n",
       " 'Documento': 1003882,\n",
       " 'Apellidos': {'Paterno': 'Ramirez', 'Materno': 'Lopez'}}"
      ]
     },
     "execution_count": 104,
     "metadata": {},
     "output_type": "execute_result"
    }
   ],
   "source": [
    "d1['Apellidos']={'Paterno':'Ramirez', 'Materno':'Lopez'}\n",
    "d1"
   ]
  },
  {
   "cell_type": "code",
   "execution_count": 106,
   "id": "c255265d-1b18-4fe3-a6db-0ce91a99ef43",
   "metadata": {},
   "outputs": [
    {
     "data": {
      "text/plain": [
       "'Ramirez'"
      ]
     },
     "execution_count": 106,
     "metadata": {},
     "output_type": "execute_result"
    }
   ],
   "source": [
    "d1['Apellidos']['Paterno']"
   ]
  },
  {
   "cell_type": "code",
   "execution_count": 108,
   "id": "ff4fa23f-3983-4ebb-81ac-073be899a824",
   "metadata": {},
   "outputs": [
    {
     "data": {
      "text/plain": [
       "'Lopez'"
      ]
     },
     "execution_count": 108,
     "metadata": {},
     "output_type": "execute_result"
    }
   ],
   "source": [
    "d1['Apellidos']['Materno']"
   ]
  },
  {
   "cell_type": "code",
   "execution_count": null,
   "id": "5f3ab6a2-6f29-4b63-8b4b-87d02292543c",
   "metadata": {},
   "outputs": [],
   "source": []
  }
 ],
 "metadata": {
  "kernelspec": {
   "display_name": "Python 3 (ipykernel)",
   "language": "python",
   "name": "python3"
  },
  "language_info": {
   "codemirror_mode": {
    "name": "ipython",
    "version": 3
   },
   "file_extension": ".py",
   "mimetype": "text/x-python",
   "name": "python",
   "nbconvert_exporter": "python",
   "pygments_lexer": "ipython3",
   "version": "3.12.4"
  }
 },
 "nbformat": 4,
 "nbformat_minor": 5
}
